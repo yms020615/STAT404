{
  "nbformat": 4,
  "nbformat_minor": 0,
  "metadata": {
    "colab": {
      "provenance": []
    },
    "kernelspec": {
      "name": "python3",
      "display_name": "Python 3"
    },
    "language_info": {
      "name": "python"
    }
  },
  "cells": [
    {
      "cell_type": "markdown",
      "source": [
        "# Dependency"
      ],
      "metadata": {
        "id": "GCZu2JHTHOku"
      }
    },
    {
      "cell_type": "code",
      "source": [
        "!pip install bayesian-optimization"
      ],
      "metadata": {
        "colab": {
          "base_uri": "https://localhost:8080/"
        },
        "id": "Z6h0b_Fg_ce7",
        "outputId": "7ca2dc89-d05a-4c71-cded-612c24bacf84"
      },
      "execution_count": null,
      "outputs": [
        {
          "output_type": "stream",
          "name": "stdout",
          "text": [
            "Requirement already satisfied: bayesian-optimization in /usr/local/lib/python3.10/dist-packages (1.4.3)\n",
            "Requirement already satisfied: numpy>=1.9.0 in /usr/local/lib/python3.10/dist-packages (from bayesian-optimization) (1.23.5)\n",
            "Requirement already satisfied: scipy>=1.0.0 in /usr/local/lib/python3.10/dist-packages (from bayesian-optimization) (1.11.4)\n",
            "Requirement already satisfied: scikit-learn>=0.18.0 in /usr/local/lib/python3.10/dist-packages (from bayesian-optimization) (1.2.2)\n",
            "Requirement already satisfied: colorama>=0.4.6 in /usr/local/lib/python3.10/dist-packages (from bayesian-optimization) (0.4.6)\n",
            "Requirement already satisfied: joblib>=1.1.1 in /usr/local/lib/python3.10/dist-packages (from scikit-learn>=0.18.0->bayesian-optimization) (1.3.2)\n",
            "Requirement already satisfied: threadpoolctl>=2.0.0 in /usr/local/lib/python3.10/dist-packages (from scikit-learn>=0.18.0->bayesian-optimization) (3.2.0)\n",
            "Collecting pyro-ppl\n",
            "  Downloading pyro_ppl-1.8.6-py3-none-any.whl (732 kB)\n",
            "\u001b[2K     \u001b[90m━━━━━━━━━━━━━━━━━━━━━━━━━━━━━━━━━━━━━━━━\u001b[0m \u001b[32m732.8/732.8 kB\u001b[0m \u001b[31m4.7 MB/s\u001b[0m eta \u001b[36m0:00:00\u001b[0m\n",
            "\u001b[?25hRequirement already satisfied: numpy>=1.7 in /usr/local/lib/python3.10/dist-packages (from pyro-ppl) (1.23.5)\n",
            "Requirement already satisfied: opt-einsum>=2.3.2 in /usr/local/lib/python3.10/dist-packages (from pyro-ppl) (3.3.0)\n",
            "Collecting pyro-api>=0.1.1 (from pyro-ppl)\n",
            "  Downloading pyro_api-0.1.2-py3-none-any.whl (11 kB)\n",
            "Requirement already satisfied: torch>=1.11.0 in /usr/local/lib/python3.10/dist-packages (from pyro-ppl) (2.1.0+cu121)\n",
            "Requirement already satisfied: tqdm>=4.36 in /usr/local/lib/python3.10/dist-packages (from pyro-ppl) (4.66.1)\n",
            "Requirement already satisfied: filelock in /usr/local/lib/python3.10/dist-packages (from torch>=1.11.0->pyro-ppl) (3.13.1)\n",
            "Requirement already satisfied: typing-extensions in /usr/local/lib/python3.10/dist-packages (from torch>=1.11.0->pyro-ppl) (4.5.0)\n",
            "Requirement already satisfied: sympy in /usr/local/lib/python3.10/dist-packages (from torch>=1.11.0->pyro-ppl) (1.12)\n",
            "Requirement already satisfied: networkx in /usr/local/lib/python3.10/dist-packages (from torch>=1.11.0->pyro-ppl) (3.2.1)\n",
            "Requirement already satisfied: jinja2 in /usr/local/lib/python3.10/dist-packages (from torch>=1.11.0->pyro-ppl) (3.1.2)\n",
            "Requirement already satisfied: fsspec in /usr/local/lib/python3.10/dist-packages (from torch>=1.11.0->pyro-ppl) (2023.6.0)\n",
            "Requirement already satisfied: triton==2.1.0 in /usr/local/lib/python3.10/dist-packages (from torch>=1.11.0->pyro-ppl) (2.1.0)\n",
            "Requirement already satisfied: MarkupSafe>=2.0 in /usr/local/lib/python3.10/dist-packages (from jinja2->torch>=1.11.0->pyro-ppl) (2.1.3)\n",
            "Requirement already satisfied: mpmath>=0.19 in /usr/local/lib/python3.10/dist-packages (from sympy->torch>=1.11.0->pyro-ppl) (1.3.0)\n",
            "Installing collected packages: pyro-api, pyro-ppl\n",
            "Successfully installed pyro-api-0.1.2 pyro-ppl-1.8.6\n"
          ]
        }
      ]
    },
    {
      "cell_type": "markdown",
      "source": [
        "# Mean Field Approximation"
      ],
      "metadata": {
        "id": "a109c3ivHQlB"
      }
    },
    {
      "cell_type": "code",
      "execution_count": null,
      "metadata": {
        "colab": {
          "base_uri": "https://localhost:8080/",
          "height": 1000
        },
        "id": "51BClkLxb0wc",
        "outputId": "4fa29b8b-2244-4a43-ccf4-79549284a522"
      },
      "outputs": [
        {
          "output_type": "stream",
          "name": "stdout",
          "text": [
            "|   iter    |  target   | pairwi... | unary_... |\n",
            "-------------------------------------------------\n",
            "| \u001b[0m1        \u001b[0m | \u001b[0m-0.2022  \u001b[0m | \u001b[0m0.4229   \u001b[0m | \u001b[0m7.483    \u001b[0m |\n",
            "| \u001b[95m2        \u001b[0m | \u001b[95m-0.123   \u001b[0m | \u001b[95m0.01011  \u001b[0m | \u001b[95m3.721    \u001b[0m |\n",
            "| \u001b[0m3        \u001b[0m | \u001b[0m-0.2905  \u001b[0m | \u001b[0m0.1553   \u001b[0m | \u001b[0m1.831    \u001b[0m |\n",
            "| \u001b[0m4        \u001b[0m | \u001b[0m-0.1787  \u001b[0m | \u001b[0m0.1944   \u001b[0m | \u001b[0m4.11     \u001b[0m |\n",
            "| \u001b[0m5        \u001b[0m | \u001b[0m-0.4987  \u001b[0m | \u001b[0m0.4028   \u001b[0m | \u001b[0m5.849    \u001b[0m |\n",
            "| \u001b[0m6        \u001b[0m | \u001b[0m-0.3147  \u001b[0m | \u001b[0m0.425    \u001b[0m | \u001b[0m7.167    \u001b[0m |\n",
            "| \u001b[95m7        \u001b[0m | \u001b[95m-0.08413 \u001b[0m | \u001b[95m0.2124   \u001b[0m | \u001b[95m8.903    \u001b[0m |\n",
            "| \u001b[95m8        \u001b[0m | \u001b[95m-0.07019 \u001b[0m | \u001b[95m0.03711  \u001b[0m | \u001b[95m7.034    \u001b[0m |\n",
            "| \u001b[0m9        \u001b[0m | \u001b[0m-0.5316  \u001b[0m | \u001b[0m0.4231   \u001b[0m | \u001b[0m6.028    \u001b[0m |\n",
            "| \u001b[0m10       \u001b[0m | \u001b[0m-0.2172  \u001b[0m | \u001b[0m0.149    \u001b[0m | \u001b[0m2.783    \u001b[0m |\n",
            "| \u001b[0m11       \u001b[0m | \u001b[0m-0.08367 \u001b[0m | \u001b[0m0.2444   \u001b[0m | \u001b[0m8.394    \u001b[0m |\n",
            "| \u001b[0m12       \u001b[0m | \u001b[0m-0.841   \u001b[0m | \u001b[0m0.8178   \u001b[0m | \u001b[0m8.673    \u001b[0m |\n",
            "| \u001b[0m13       \u001b[0m | \u001b[0m-0.0899  \u001b[0m | \u001b[0m0.1578   \u001b[0m | \u001b[0m6.659    \u001b[0m |\n",
            "| \u001b[0m14       \u001b[0m | \u001b[0m-0.08654 \u001b[0m | \u001b[0m0.0588   \u001b[0m | \u001b[0m7.041    \u001b[0m |\n",
            "| \u001b[0m15       \u001b[0m | \u001b[0m-0.07371 \u001b[0m | \u001b[0m0.02402  \u001b[0m | \u001b[0m7.962    \u001b[0m |\n",
            "| \u001b[0m16       \u001b[0m | \u001b[0m-0.08889 \u001b[0m | \u001b[0m0.01     \u001b[0m | \u001b[0m9.428    \u001b[0m |\n",
            "| \u001b[0m17       \u001b[0m | \u001b[0m-0.8335  \u001b[0m | \u001b[0m0.7658   \u001b[0m | \u001b[0m3.5      \u001b[0m |\n",
            "| \u001b[0m18       \u001b[0m | \u001b[0m-0.1017  \u001b[0m | \u001b[0m0.4163   \u001b[0m | \u001b[0m9.998    \u001b[0m |\n",
            "| \u001b[0m19       \u001b[0m | \u001b[0m-0.8637  \u001b[0m | \u001b[0m0.9796   \u001b[0m | \u001b[0m1.033    \u001b[0m |\n",
            "| \u001b[0m20       \u001b[0m | \u001b[0m-0.1285  \u001b[0m | \u001b[0m0.157    \u001b[0m | \u001b[0m4.66     \u001b[0m |\n",
            "| \u001b[0m21       \u001b[0m | \u001b[0m-0.8599  \u001b[0m | \u001b[0m1.0      \u001b[0m | \u001b[0m10.0     \u001b[0m |\n",
            "| \u001b[95m22       \u001b[0m | \u001b[95m-0.06903 \u001b[0m | \u001b[95m0.01     \u001b[0m | \u001b[95m10.0     \u001b[0m |\n",
            "| \u001b[0m23       \u001b[0m | \u001b[0m-0.8583  \u001b[0m | \u001b[0m1.0      \u001b[0m | \u001b[0m4.9      \u001b[0m |\n",
            "| \u001b[0m24       \u001b[0m | \u001b[0m-0.1447  \u001b[0m | \u001b[0m0.163    \u001b[0m | \u001b[0m4.661    \u001b[0m |\n",
            "| \u001b[0m25       \u001b[0m | \u001b[0m-0.109   \u001b[0m | \u001b[0m0.02154  \u001b[0m | \u001b[0m4.373    \u001b[0m |\n",
            "| \u001b[0m26       \u001b[0m | \u001b[0m-0.09619 \u001b[0m | \u001b[0m0.01099  \u001b[0m | \u001b[0m5.094    \u001b[0m |\n",
            "| \u001b[0m27       \u001b[0m | \u001b[0m-0.09155 \u001b[0m | \u001b[0m0.01     \u001b[0m | \u001b[0m8.617    \u001b[0m |\n",
            "| \u001b[0m28       \u001b[0m | \u001b[0m-0.07452 \u001b[0m | \u001b[0m0.3769   \u001b[0m | \u001b[0m9.547    \u001b[0m |\n",
            "| \u001b[0m29       \u001b[0m | \u001b[0m-0.8066  \u001b[0m | \u001b[0m1.0      \u001b[0m | \u001b[0m2.31     \u001b[0m |\n",
            "| \u001b[0m30       \u001b[0m | \u001b[0m-0.8686  \u001b[0m | \u001b[0m1.0      \u001b[0m | \u001b[0m7.634    \u001b[0m |\n",
            "| \u001b[0m31       \u001b[0m | \u001b[0m-0.09362 \u001b[0m | \u001b[0m0.01326  \u001b[0m | \u001b[0m7.523    \u001b[0m |\n",
            "| \u001b[0m32       \u001b[0m | \u001b[0m-0.195   \u001b[0m | \u001b[0m0.01     \u001b[0m | \u001b[0m1.0      \u001b[0m |\n",
            "| \u001b[0m33       \u001b[0m | \u001b[0m-0.129   \u001b[0m | \u001b[0m0.01     \u001b[0m | \u001b[0m3.237    \u001b[0m |\n",
            "| \u001b[0m34       \u001b[0m | \u001b[0m-0.6891  \u001b[0m | \u001b[0m0.4668   \u001b[0m | \u001b[0m5.392    \u001b[0m |\n",
            "| \u001b[0m35       \u001b[0m | \u001b[0m-0.1053  \u001b[0m | \u001b[0m0.01     \u001b[0m | \u001b[0m4.792    \u001b[0m |\n",
            "| \u001b[0m36       \u001b[0m | \u001b[0m-0.861   \u001b[0m | \u001b[0m1.0      \u001b[0m | \u001b[0m6.582    \u001b[0m |\n",
            "| \u001b[0m37       \u001b[0m | \u001b[0m-0.1476  \u001b[0m | \u001b[0m0.01     \u001b[0m | \u001b[0m2.324    \u001b[0m |\n",
            "| \u001b[0m38       \u001b[0m | \u001b[0m-0.08775 \u001b[0m | \u001b[0m0.355    \u001b[0m | \u001b[0m7.952    \u001b[0m |\n",
            "| \u001b[0m39       \u001b[0m | \u001b[0m-0.0951  \u001b[0m | \u001b[0m0.01     \u001b[0m | \u001b[0m6.33     \u001b[0m |\n",
            "| \u001b[0m40       \u001b[0m | \u001b[0m-0.09168 \u001b[0m | \u001b[0m0.01     \u001b[0m | \u001b[0m5.553    \u001b[0m |\n",
            "| \u001b[0m41       \u001b[0m | \u001b[0m-0.09187 \u001b[0m | \u001b[0m0.1626   \u001b[0m | \u001b[0m9.753    \u001b[0m |\n",
            "| \u001b[0m42       \u001b[0m | \u001b[0m-0.09376 \u001b[0m | \u001b[0m0.01     \u001b[0m | \u001b[0m9.078    \u001b[0m |\n",
            "| \u001b[0m43       \u001b[0m | \u001b[0m-0.1761  \u001b[0m | \u001b[0m0.01     \u001b[0m | \u001b[0m1.406    \u001b[0m |\n",
            "| \u001b[0m44       \u001b[0m | \u001b[0m-0.8731  \u001b[0m | \u001b[0m0.8963   \u001b[0m | \u001b[0m5.233    \u001b[0m |\n",
            "| \u001b[95m45       \u001b[0m | \u001b[95m-0.06136 \u001b[0m | \u001b[95m0.3526   \u001b[0m | \u001b[95m9.22     \u001b[0m |\n",
            "| \u001b[0m46       \u001b[0m | \u001b[0m-0.0799  \u001b[0m | \u001b[0m0.01042  \u001b[0m | \u001b[0m9.43     \u001b[0m |\n",
            "| \u001b[0m47       \u001b[0m | \u001b[0m-0.07528 \u001b[0m | \u001b[0m0.01613  \u001b[0m | \u001b[0m8.293    \u001b[0m |\n",
            "| \u001b[0m48       \u001b[0m | \u001b[0m-0.07243 \u001b[0m | \u001b[0m0.01     \u001b[0m | \u001b[0m9.641    \u001b[0m |\n",
            "| \u001b[0m49       \u001b[0m | \u001b[0m-0.7777  \u001b[0m | \u001b[0m0.6991   \u001b[0m | \u001b[0m9.327    \u001b[0m |\n",
            "| \u001b[0m50       \u001b[0m | \u001b[0m-0.1078  \u001b[0m | \u001b[0m0.157    \u001b[0m | \u001b[0m6.662    \u001b[0m |\n",
            "=================================================\n"
          ]
        },
        {
          "output_type": "display_data",
          "data": {
            "text/plain": [
              "<Figure size 1200x400 with 3 Axes>"
            ],
            "image/png": "[encoded data removed]"
          },
          "metadata": {}
        }
      ],
      "source": [
        "import numpy as np\n",
        "import matplotlib.pyplot as plt\n",
        "import torch\n",
        "import torchvision\n",
        "from torchvision.transforms import transforms\n",
        "from bayes_opt import BayesianOptimization\n",
        "\n",
        "# MNIST 데이터셋을 로드\n",
        "transform = transforms.Compose([transforms.ToTensor()])\n",
        "mnist_train = torchvision.datasets.MNIST(root='./data', train=True, download=True, transform=transform)\n",
        "train_loader = torch.utils.data.DataLoader(mnist_train, batch_size=1, shuffle=True)\n",
        "\n",
        "# 이미지에 salt and pepper 노이즈를 추가하는 함수를 정의\n",
        "def add_salt_and_pepper_noise(image, amount, s_vs_p):\n",
        "    noisy = image.clone().numpy()\n",
        "    num_salt = np.ceil(amount * image.numel() * s_vs_p)\n",
        "    num_pepper = np.ceil(amount * image.numel() * (1. - s_vs_p))\n",
        "    coords = [np.random.randint(0, i - 1, int(num_salt)) for i in image.shape]\n",
        "    noisy[coords] = 1\n",
        "    coords = [np.random.randint(0, i - 1, int(num_pepper)) for i in image.shape]\n",
        "    noisy[coords] = 0\n",
        "    return torch.tensor(noisy, dtype=torch.float32)\n",
        "\n",
        "# CRF를 위한 Mean Field Inference 단계를 정의\n",
        "def mean_field_inference_step(unary_potentials, pairwise_potential_strength, num_iterations):\n",
        "    labels = unary_potentials.clone()\n",
        "    conv_weight = pairwise_potential_strength * torch.ones(1, 1, 3, 3)\n",
        "    for _ in range(num_iterations):\n",
        "        labels_smoothed = torch.nn.functional.conv2d(labels.unsqueeze(0).unsqueeze(0),\n",
        "                                                     weight=conv_weight,\n",
        "                                                     padding=1)\n",
        "        labels = unary_potentials + labels_smoothed.squeeze(0).squeeze(0)\n",
        "        labels = torch.sigmoid(labels)  # 레이블을 [0, 1] 범위로 정규화\n",
        "    return labels\n",
        "\n",
        "# Bayesian Optimization을 위한 목적 함수를 정의\n",
        "def objective(unary_potential_strength, pairwise_potential_strength, ):\n",
        "    total_error = 0.0\n",
        "    num_images = 5\n",
        "    for i, (images, _) in enumerate(train_loader):\n",
        "        if i >= num_images:\n",
        "            break\n",
        "        original_image = images[0][0]\n",
        "        noisy_image = add_salt_and_pepper_noise(original_image, 0.005, 0.5)\n",
        "        unary_potentials = -unary_potential_strength * (noisy_image - 0.5).pow(2)\n",
        "        denoised_image = mean_field_inference_step(unary_potentials, pairwise_potential_strength, 15)\n",
        "        total_error += torch.mean((original_image - denoised_image) ** 2).item()\n",
        "    return -total_error / num_images  # 목적 함수를 최소화하려고 하므로 평균 오류의 음수를 반환\n",
        "\n",
        "# Bayesian Optimization에서 하이퍼파라미터의 범위를 설정\n",
        "params = {\n",
        "    'unary_potential_strength': (1, 10),\n",
        "    'pairwise_potential_strength': (0.01, 1)\n",
        "}\n",
        "\n",
        "# Bayesian optimization을 초기화하고 수행\n",
        "optimizer = BayesianOptimization(f=objective, pbounds=params, random_state=1)\n",
        "optimizer.maximize(init_points=10, n_iter=40)\n",
        "\n",
        "# 최적의 하이퍼파라미터를 추출\n",
        "best_params = optimizer.max['params']\n",
        "\n",
        "# 최적화된 파라미터를 사용하여 이미지를 denoise하고 결과를 시각화\n",
        "for images, _ in train_loader:\n",
        "    original_image = images[0][0]\n",
        "    noisy_image = add_salt_and_pepper_noise(original_image, 0.005, 0.5)\n",
        "    unary_potentials = -best_params['unary_potential_strength'] * (noisy_image - 0.5).pow(2)\n",
        "    denoised_image = mean_field_inference_step(unary_potentials, best_params['pairwise_potential_strength'], 15)\n",
        "    plt.figure(figsize=(12, 4))\n",
        "    plt.subplot(1, 3, 1)\n",
        "    plt.imshow(original_image.numpy(), cmap='gray')\n",
        "    plt.title('Original Image')\n",
        "    plt.subplot(1, 3, 2)\n",
        "    plt.imshow(noisy_image.numpy(), cmap='gray')\n",
        "    plt.title('Noised Image')\n",
        "    plt.subplot(1, 3, 3)\n",
        "    plt.imshow(denoised_image.detach().numpy(), cmap='gray')\n",
        "    plt.title('Denoised Image')\n",
        "    plt.show()\n",
        "    break  # 시연을 위해 첫 번째 이미지만 처리"
      ]
    },
    {
      "cell_type": "code",
      "source": [
        "import torch\n",
        "import torch.nn as nn\n",
        "import torch.optim as optim\n",
        "from torch.utils.data import DataLoader\n",
        "import torchvision.transforms as transforms\n",
        "import torchvision.datasets as datasets\n",
        "import matplotlib.pyplot as plt\n",
        "from tqdm import tqdm\n",
        "\n",
        "# 간단한 CNN 모델 정의\n",
        "class SimpleCNN(nn.Module):\n",
        "    def __init__(self):\n",
        "        super(SimpleCNN, self).__init__()\n",
        "        self.conv1 = nn.Conv2d(1, 32, kernel_size=3, padding=1)\n",
        "        self.conv2 = nn.Conv2d(32, 64, kernel_size=3, padding=1)\n",
        "        self.fc1 = nn.Linear(64 * 7 * 7, 128)\n",
        "        self.fc2 = nn.Linear(128, 10)\n",
        "\n",
        "    def forward(self, x):\n",
        "        x = torch.relu(self.conv1(x))\n",
        "        x = torch.max_pool2d(x, 2)\n",
        "        x = torch.relu(self.conv2(x))\n",
        "        x = torch.max_pool2d(x, 2)\n",
        "        x = x.view(x.size(0), -1)\n",
        "        x = torch.relu(self.fc1(x))\n",
        "        x = self.fc2(x)\n",
        "        return x\n",
        "\n",
        "def add_salt_and_pepper_noise(image, amount=0.005, s_vs_p=0.5):\n",
        "    noisy = image.clone().detach().numpy()\n",
        "    num_salt = np.ceil(amount * image.numel() * s_vs_p).astype(int)\n",
        "    num_pepper = np.ceil(amount * image.numel() * (1. - s_vs_p)).astype(int)\n",
        "\n",
        "    for _ in range(num_salt):\n",
        "        x_coord = np.random.randint(0, image.shape[1])  # (C, H, W)\n",
        "        y_coord = np.random.randint(0, image.shape[2])\n",
        "        noisy[0][x_coord][y_coord] = 1\n",
        "\n",
        "    for _ in range(num_pepper):\n",
        "        x_coord = np.random.randint(0, image.shape[1])\n",
        "        y_coord = np.random.randint(0, image.shape[2])\n",
        "        noisy[0][x_coord][y_coord] = 0\n",
        "\n",
        "    return torch.tensor(noisy, dtype=torch.float32)\n",
        "\n",
        "def mean_field_inference_step(unary_potentials, pairwise_potential_strength, num_iterations):\n",
        "    labels = unary_potentials.clone()\n",
        "    conv_weight = pairwise_potential_strength * torch.ones(1, 1, 3, 3)\n",
        "    for _ in range(num_iterations):\n",
        "        labels_smoothed = torch.nn.functional.conv2d(labels,\n",
        "                                                     weight=conv_weight,\n",
        "                                                     padding=1)\n",
        "        labels = unary_potentials + labels_smoothed.squeeze(0).squeeze(0)\n",
        "        labels = torch.sigmoid(labels)  # 레이블을 [0, 1] 범위로 정규화\n",
        "    return labels\n",
        "\n",
        "# 데이터 로드\n",
        "transform = transforms.Compose([transforms.ToTensor()])\n",
        "train_dataset = datasets.MNIST(root='./data', train=True, download=True, transform=transform)\n",
        "train_loader = DataLoader(dataset=train_dataset, batch_size=64, shuffle=True)\n",
        "\n",
        "# 모델, 손실 함수, optimizer 초기화\n",
        "model = SimpleCNN()\n",
        "criterion = nn.CrossEntropyLoss()\n",
        "optimizer = optim.Adam(model.parameters(), lr=0.001)\n",
        "\n",
        "from tqdm import tqdm\n",
        "\n",
        "# 학습 루프\n",
        "for epoch in range(2):  # 전체 데이터셋을 2번 반복\n",
        "    total_correct = 0\n",
        "    total_samples = 0\n",
        "\n",
        "    for i, (images, labels) in enumerate(tqdm(train_loader)):\n",
        "        # 이미지에 noise 추가 및 denoise\n",
        "        noisy_images = torch.stack([add_salt_and_pepper_noise(img, 0.005, 0.5) for img in images])\n",
        "        denoised_images = torch.stack([mean_field_inference_step(-best_params['unary_potential_strength'] * (img - 0.5).pow(2), best_params['pairwise_potential_strength'], 15) for img in noisy_images])\n",
        "\n",
        "        # 모델을 통해 예측값 계산\n",
        "        outputs = model(denoised_images)\n",
        "        _, predicted = torch.max(outputs, 1)\n",
        "        loss = criterion(outputs, labels)\n",
        "\n",
        "        # 역전파 및 최적화\n",
        "        optimizer.zero_grad()\n",
        "        loss.backward()\n",
        "        optimizer.step()\n",
        "\n",
        "        # 정확도 계산\n",
        "        total_correct += (predicted == labels).sum().item()\n",
        "        total_samples += labels.size(0)\n",
        "\n",
        "        # 10번의 루프마다 정확도 출력\n",
        "        if (i + 1) % 10 == 0:\n",
        "            current_accuracy = 100 * total_correct / total_samples\n",
        "            print(f'\\tBatch {i+1}, Epoch [{epoch+1}/2], Loss: {round(loss.item(), 4)}, Accuracy: {current_accuracy:.2f}%')\n",
        "\n",
        "    # 에포크의 끝에서 전체 정확도 출력\n",
        "    epoch_accuracy = 100 * total_correct / total_samples\n",
        "    print(f'End of Epoch [{epoch+1}/2], Loss: {round(loss.item(), 4)}, Total Accuracy: {epoch_accuracy:.2f}%')\n",
        "    print()"
      ],
      "metadata": {
        "colab": {
          "base_uri": "https://localhost:8080/"
        },
        "id": "LdtLJ-vJHY92",
        "outputId": "dd8916dc-80c4-41af-b8f4-c69708361c02"
      },
      "execution_count": null,
      "outputs": [
        {
          "output_type": "stream",
          "name": "stderr",
          "text": [
            "  1%|          | 11/938 [00:01<02:05,  7.37it/s]"
          ]
        },
        {
          "output_type": "stream",
          "name": "stdout",
          "text": [
            "\tBatch 10, Epoch [1/2], Loss: 2.1958, Accuracy: 16.88%\n"
          ]
        },
        {
          "output_type": "stream",
          "name": "stderr",
          "text": [
            "  2%|▏         | 21/938 [00:03<02:40,  5.73it/s]"
          ]
        },
        {
          "output_type": "stream",
          "name": "stdout",
          "text": [
            "\tBatch 20, Epoch [1/2], Loss: 1.8185, Accuracy: 29.69%\n"
          ]
        },
        {
          "output_type": "stream",
          "name": "stderr",
          "text": [
            "  3%|▎         | 30/938 [00:04<03:08,  4.82it/s]"
          ]
        },
        {
          "output_type": "stream",
          "name": "stdout",
          "text": [
            "\tBatch 30, Epoch [1/2], Loss: 1.3032, Accuracy: 38.75%\n"
          ]
        },
        {
          "output_type": "stream",
          "name": "stderr",
          "text": [
            "  4%|▍         | 41/938 [00:06<02:07,  7.02it/s]"
          ]
        },
        {
          "output_type": "stream",
          "name": "stdout",
          "text": [
            "\tBatch 40, Epoch [1/2], Loss: 1.0403, Accuracy: 45.70%\n"
          ]
        },
        {
          "output_type": "stream",
          "name": "stderr",
          "text": [
            "  5%|▌         | 51/938 [00:08<01:54,  7.74it/s]"
          ]
        },
        {
          "output_type": "stream",
          "name": "stdout",
          "text": [
            "\tBatch 50, Epoch [1/2], Loss: 0.9304, Accuracy: 51.22%\n"
          ]
        },
        {
          "output_type": "stream",
          "name": "stderr",
          "text": [
            "  7%|▋         | 61/938 [00:09<02:00,  7.28it/s]"
          ]
        },
        {
          "output_type": "stream",
          "name": "stdout",
          "text": [
            "\tBatch 60, Epoch [1/2], Loss: 0.6827, Accuracy: 55.39%\n"
          ]
        },
        {
          "output_type": "stream",
          "name": "stderr",
          "text": [
            "  8%|▊         | 71/938 [00:10<01:51,  7.80it/s]"
          ]
        },
        {
          "output_type": "stream",
          "name": "stdout",
          "text": [
            "\tBatch 70, Epoch [1/2], Loss: 0.4494, Accuracy: 58.84%\n"
          ]
        },
        {
          "output_type": "stream",
          "name": "stderr",
          "text": [
            "  9%|▊         | 81/938 [00:12<01:51,  7.68it/s]"
          ]
        },
        {
          "output_type": "stream",
          "name": "stdout",
          "text": [
            "\tBatch 80, Epoch [1/2], Loss: 0.5868, Accuracy: 61.50%\n"
          ]
        },
        {
          "output_type": "stream",
          "name": "stderr",
          "text": [
            " 10%|▉         | 91/938 [00:13<01:53,  7.43it/s]"
          ]
        },
        {
          "output_type": "stream",
          "name": "stdout",
          "text": [
            "\tBatch 90, Epoch [1/2], Loss: 0.7586, Accuracy: 63.80%\n"
          ]
        },
        {
          "output_type": "stream",
          "name": "stderr",
          "text": [
            " 11%|█         | 101/938 [00:14<01:50,  7.56it/s]"
          ]
        },
        {
          "output_type": "stream",
          "name": "stdout",
          "text": [
            "\tBatch 100, Epoch [1/2], Loss: 0.5155, Accuracy: 65.91%\n"
          ]
        },
        {
          "output_type": "stream",
          "name": "stderr",
          "text": [
            " 12%|█▏        | 111/938 [00:15<01:46,  7.78it/s]"
          ]
        },
        {
          "output_type": "stream",
          "name": "stdout",
          "text": [
            "\tBatch 110, Epoch [1/2], Loss: 0.6251, Accuracy: 67.80%\n"
          ]
        },
        {
          "output_type": "stream",
          "name": "stderr",
          "text": [
            " 13%|█▎        | 121/938 [00:17<02:40,  5.10it/s]"
          ]
        },
        {
          "output_type": "stream",
          "name": "stdout",
          "text": [
            "\tBatch 120, Epoch [1/2], Loss: 0.4569, Accuracy: 69.13%\n"
          ]
        },
        {
          "output_type": "stream",
          "name": "stderr",
          "text": [
            " 14%|█▍        | 131/938 [00:19<02:23,  5.62it/s]"
          ]
        },
        {
          "output_type": "stream",
          "name": "stdout",
          "text": [
            "\tBatch 130, Epoch [1/2], Loss: 0.3824, Accuracy: 70.29%\n"
          ]
        },
        {
          "output_type": "stream",
          "name": "stderr",
          "text": [
            " 15%|█▌        | 141/938 [00:21<01:41,  7.87it/s]"
          ]
        },
        {
          "output_type": "stream",
          "name": "stdout",
          "text": [
            "\tBatch 140, Epoch [1/2], Loss: 0.2734, Accuracy: 71.36%\n"
          ]
        },
        {
          "output_type": "stream",
          "name": "stderr",
          "text": [
            " 16%|█▌        | 151/938 [00:22<01:51,  7.06it/s]"
          ]
        },
        {
          "output_type": "stream",
          "name": "stdout",
          "text": [
            "\tBatch 150, Epoch [1/2], Loss: 0.5489, Accuracy: 72.35%\n"
          ]
        },
        {
          "output_type": "stream",
          "name": "stderr",
          "text": [
            " 17%|█▋        | 161/938 [00:23<01:49,  7.07it/s]"
          ]
        },
        {
          "output_type": "stream",
          "name": "stdout",
          "text": [
            "\tBatch 160, Epoch [1/2], Loss: 0.3922, Accuracy: 73.29%\n"
          ]
        },
        {
          "output_type": "stream",
          "name": "stderr",
          "text": [
            " 18%|█▊        | 171/938 [00:25<01:42,  7.45it/s]"
          ]
        },
        {
          "output_type": "stream",
          "name": "stdout",
          "text": [
            "\tBatch 170, Epoch [1/2], Loss: 0.4173, Accuracy: 74.06%\n"
          ]
        },
        {
          "output_type": "stream",
          "name": "stderr",
          "text": [
            " 19%|█▉        | 181/938 [00:26<01:41,  7.44it/s]"
          ]
        },
        {
          "output_type": "stream",
          "name": "stdout",
          "text": [
            "\tBatch 180, Epoch [1/2], Loss: 0.5187, Accuracy: 74.70%\n"
          ]
        },
        {
          "output_type": "stream",
          "name": "stderr",
          "text": [
            " 20%|██        | 191/938 [00:27<01:40,  7.47it/s]"
          ]
        },
        {
          "output_type": "stream",
          "name": "stdout",
          "text": [
            "\tBatch 190, Epoch [1/2], Loss: 0.2561, Accuracy: 75.39%\n"
          ]
        },
        {
          "output_type": "stream",
          "name": "stderr",
          "text": [
            " 21%|██▏       | 201/938 [00:29<01:35,  7.73it/s]"
          ]
        },
        {
          "output_type": "stream",
          "name": "stdout",
          "text": [
            "\tBatch 200, Epoch [1/2], Loss: 0.2438, Accuracy: 76.09%\n"
          ]
        },
        {
          "output_type": "stream",
          "name": "stderr",
          "text": [
            " 22%|██▏       | 210/938 [00:30<02:13,  5.45it/s]"
          ]
        },
        {
          "output_type": "stream",
          "name": "stdout",
          "text": [
            "\tBatch 210, Epoch [1/2], Loss: 0.3635, Accuracy: 76.58%\n"
          ]
        },
        {
          "output_type": "stream",
          "name": "stderr",
          "text": [
            " 23%|██▎       | 220/938 [00:32<02:26,  4.91it/s]"
          ]
        },
        {
          "output_type": "stream",
          "name": "stdout",
          "text": [
            "\tBatch 220, Epoch [1/2], Loss: 0.2109, Accuracy: 77.17%\n"
          ]
        },
        {
          "output_type": "stream",
          "name": "stderr",
          "text": [
            " 25%|██▍       | 231/938 [00:34<01:35,  7.41it/s]"
          ]
        },
        {
          "output_type": "stream",
          "name": "stdout",
          "text": [
            "\tBatch 230, Epoch [1/2], Loss: 0.2914, Accuracy: 77.64%\n"
          ]
        },
        {
          "output_type": "stream",
          "name": "stderr",
          "text": [
            " 26%|██▌       | 241/938 [00:36<02:15,  5.14it/s]"
          ]
        },
        {
          "output_type": "stream",
          "name": "stdout",
          "text": [
            "\tBatch 240, Epoch [1/2], Loss: 0.4912, Accuracy: 78.10%\n"
          ]
        },
        {
          "output_type": "stream",
          "name": "stderr",
          "text": [
            " 27%|██▋       | 251/938 [00:37<01:29,  7.68it/s]"
          ]
        },
        {
          "output_type": "stream",
          "name": "stdout",
          "text": [
            "\tBatch 250, Epoch [1/2], Loss: 0.4457, Accuracy: 78.52%\n"
          ]
        },
        {
          "output_type": "stream",
          "name": "stderr",
          "text": [
            " 28%|██▊       | 261/938 [00:39<01:31,  7.37it/s]"
          ]
        },
        {
          "output_type": "stream",
          "name": "stdout",
          "text": [
            "\tBatch 260, Epoch [1/2], Loss: 0.3496, Accuracy: 78.92%\n"
          ]
        },
        {
          "output_type": "stream",
          "name": "stderr",
          "text": [
            " 29%|██▉       | 271/938 [00:40<01:28,  7.53it/s]"
          ]
        },
        {
          "output_type": "stream",
          "name": "stdout",
          "text": [
            "\tBatch 270, Epoch [1/2], Loss: 0.2656, Accuracy: 79.27%\n"
          ]
        },
        {
          "output_type": "stream",
          "name": "stderr",
          "text": [
            " 30%|██▉       | 281/938 [00:41<01:25,  7.65it/s]"
          ]
        },
        {
          "output_type": "stream",
          "name": "stdout",
          "text": [
            "\tBatch 280, Epoch [1/2], Loss: 0.5349, Accuracy: 79.66%\n"
          ]
        },
        {
          "output_type": "stream",
          "name": "stderr",
          "text": [
            " 31%|███       | 291/938 [00:43<01:24,  7.63it/s]"
          ]
        },
        {
          "output_type": "stream",
          "name": "stdout",
          "text": [
            "\tBatch 290, Epoch [1/2], Loss: 0.1992, Accuracy: 80.01%\n"
          ]
        },
        {
          "output_type": "stream",
          "name": "stderr",
          "text": [
            " 32%|███▏      | 301/938 [00:45<02:03,  5.16it/s]"
          ]
        },
        {
          "output_type": "stream",
          "name": "stdout",
          "text": [
            "\tBatch 300, Epoch [1/2], Loss: 0.1774, Accuracy: 80.38%\n"
          ]
        },
        {
          "output_type": "stream",
          "name": "stderr",
          "text": [
            " 33%|███▎      | 311/938 [00:47<01:52,  5.57it/s]"
          ]
        },
        {
          "output_type": "stream",
          "name": "stdout",
          "text": [
            "\tBatch 310, Epoch [1/2], Loss: 0.3917, Accuracy: 80.74%\n"
          ]
        },
        {
          "output_type": "stream",
          "name": "stderr",
          "text": [
            " 34%|███▍      | 321/938 [00:48<01:22,  7.48it/s]"
          ]
        },
        {
          "output_type": "stream",
          "name": "stdout",
          "text": [
            "\tBatch 320, Epoch [1/2], Loss: 0.4239, Accuracy: 81.03%\n"
          ]
        },
        {
          "output_type": "stream",
          "name": "stderr",
          "text": [
            " 35%|███▌      | 331/938 [00:49<01:26,  7.03it/s]"
          ]
        },
        {
          "output_type": "stream",
          "name": "stdout",
          "text": [
            "\tBatch 330, Epoch [1/2], Loss: 0.3728, Accuracy: 81.34%\n"
          ]
        },
        {
          "output_type": "stream",
          "name": "stderr",
          "text": [
            " 36%|███▋      | 341/938 [00:51<01:20,  7.46it/s]"
          ]
        },
        {
          "output_type": "stream",
          "name": "stdout",
          "text": [
            "\tBatch 340, Epoch [1/2], Loss: 0.115, Accuracy: 81.65%\n"
          ]
        },
        {
          "output_type": "stream",
          "name": "stderr",
          "text": [
            " 37%|███▋      | 351/938 [00:52<01:26,  6.78it/s]"
          ]
        },
        {
          "output_type": "stream",
          "name": "stdout",
          "text": [
            "\tBatch 350, Epoch [1/2], Loss: 0.3065, Accuracy: 81.95%\n"
          ]
        },
        {
          "output_type": "stream",
          "name": "stderr",
          "text": [
            " 38%|███▊      | 361/938 [00:54<01:15,  7.61it/s]"
          ]
        },
        {
          "output_type": "stream",
          "name": "stdout",
          "text": [
            "\tBatch 360, Epoch [1/2], Loss: 0.1991, Accuracy: 82.24%\n"
          ]
        },
        {
          "output_type": "stream",
          "name": "stderr",
          "text": [
            " 40%|███▉      | 371/938 [00:55<01:14,  7.59it/s]"
          ]
        },
        {
          "output_type": "stream",
          "name": "stdout",
          "text": [
            "\tBatch 370, Epoch [1/2], Loss: 0.1742, Accuracy: 82.51%\n"
          ]
        },
        {
          "output_type": "stream",
          "name": "stderr",
          "text": [
            " 41%|████      | 381/938 [00:56<01:13,  7.54it/s]"
          ]
        },
        {
          "output_type": "stream",
          "name": "stdout",
          "text": [
            "\tBatch 380, Epoch [1/2], Loss: 0.2138, Accuracy: 82.80%\n"
          ]
        },
        {
          "output_type": "stream",
          "name": "stderr",
          "text": [
            " 42%|████▏     | 391/938 [00:58<01:45,  5.19it/s]"
          ]
        },
        {
          "output_type": "stream",
          "name": "stdout",
          "text": [
            "\tBatch 390, Epoch [1/2], Loss: 0.2258, Accuracy: 83.02%\n"
          ]
        },
        {
          "output_type": "stream",
          "name": "stderr",
          "text": [
            " 43%|████▎     | 401/938 [01:00<01:47,  5.01it/s]"
          ]
        },
        {
          "output_type": "stream",
          "name": "stdout",
          "text": [
            "\tBatch 400, Epoch [1/2], Loss: 0.1881, Accuracy: 83.22%\n"
          ]
        },
        {
          "output_type": "stream",
          "name": "stderr",
          "text": [
            " 44%|████▍     | 411/938 [01:01<01:09,  7.60it/s]"
          ]
        },
        {
          "output_type": "stream",
          "name": "stdout",
          "text": [
            "\tBatch 410, Epoch [1/2], Loss: 0.2396, Accuracy: 83.44%\n"
          ]
        },
        {
          "output_type": "stream",
          "name": "stderr",
          "text": [
            " 45%|████▍     | 421/938 [01:03<01:08,  7.58it/s]"
          ]
        },
        {
          "output_type": "stream",
          "name": "stdout",
          "text": [
            "\tBatch 420, Epoch [1/2], Loss: 0.1875, Accuracy: 83.63%\n"
          ]
        },
        {
          "output_type": "stream",
          "name": "stderr",
          "text": [
            " 46%|████▌     | 431/938 [01:04<01:08,  7.35it/s]"
          ]
        },
        {
          "output_type": "stream",
          "name": "stdout",
          "text": [
            "\tBatch 430, Epoch [1/2], Loss: 0.2458, Accuracy: 83.80%\n"
          ]
        },
        {
          "output_type": "stream",
          "name": "stderr",
          "text": [
            " 47%|████▋     | 441/938 [01:05<01:06,  7.49it/s]"
          ]
        },
        {
          "output_type": "stream",
          "name": "stdout",
          "text": [
            "\tBatch 440, Epoch [1/2], Loss: 0.2285, Accuracy: 84.00%\n"
          ]
        },
        {
          "output_type": "stream",
          "name": "stderr",
          "text": [
            " 48%|████▊     | 451/938 [01:07<01:06,  7.30it/s]"
          ]
        },
        {
          "output_type": "stream",
          "name": "stdout",
          "text": [
            "\tBatch 450, Epoch [1/2], Loss: 0.3688, Accuracy: 84.17%\n"
          ]
        },
        {
          "output_type": "stream",
          "name": "stderr",
          "text": [
            " 49%|████▉     | 461/938 [01:08<01:03,  7.53it/s]"
          ]
        },
        {
          "output_type": "stream",
          "name": "stdout",
          "text": [
            "\tBatch 460, Epoch [1/2], Loss: 0.3812, Accuracy: 84.37%\n"
          ]
        },
        {
          "output_type": "stream",
          "name": "stderr",
          "text": [
            " 50%|█████     | 471/938 [01:10<01:01,  7.56it/s]"
          ]
        },
        {
          "output_type": "stream",
          "name": "stdout",
          "text": [
            "\tBatch 470, Epoch [1/2], Loss: 0.1523, Accuracy: 84.56%\n"
          ]
        },
        {
          "output_type": "stream",
          "name": "stderr",
          "text": [
            " 51%|█████     | 480/938 [01:11<01:26,  5.30it/s]"
          ]
        },
        {
          "output_type": "stream",
          "name": "stdout",
          "text": [
            "\tBatch 480, Epoch [1/2], Loss: 0.2117, Accuracy: 84.74%\n"
          ]
        },
        {
          "output_type": "stream",
          "name": "stderr",
          "text": [
            " 52%|█████▏    | 490/938 [01:13<01:27,  5.12it/s]"
          ]
        },
        {
          "output_type": "stream",
          "name": "stdout",
          "text": [
            "\tBatch 490, Epoch [1/2], Loss: 0.1038, Accuracy: 84.89%\n"
          ]
        },
        {
          "output_type": "stream",
          "name": "stderr",
          "text": [
            " 53%|█████▎    | 501/938 [01:15<01:00,  7.22it/s]"
          ]
        },
        {
          "output_type": "stream",
          "name": "stdout",
          "text": [
            "\tBatch 500, Epoch [1/2], Loss: 0.125, Accuracy: 85.03%\n"
          ]
        },
        {
          "output_type": "stream",
          "name": "stderr",
          "text": [
            " 54%|█████▍    | 511/938 [01:16<00:56,  7.51it/s]"
          ]
        },
        {
          "output_type": "stream",
          "name": "stdout",
          "text": [
            "\tBatch 510, Epoch [1/2], Loss: 0.1383, Accuracy: 85.19%\n"
          ]
        },
        {
          "output_type": "stream",
          "name": "stderr",
          "text": [
            " 56%|█████▌    | 521/938 [01:17<00:54,  7.59it/s]"
          ]
        },
        {
          "output_type": "stream",
          "name": "stdout",
          "text": [
            "\tBatch 520, Epoch [1/2], Loss: 0.1667, Accuracy: 85.34%\n"
          ]
        },
        {
          "output_type": "stream",
          "name": "stderr",
          "text": [
            " 57%|█████▋    | 531/938 [01:19<00:55,  7.29it/s]"
          ]
        },
        {
          "output_type": "stream",
          "name": "stdout",
          "text": [
            "\tBatch 530, Epoch [1/2], Loss: 0.1304, Accuracy: 85.50%\n"
          ]
        },
        {
          "output_type": "stream",
          "name": "stderr",
          "text": [
            " 58%|█████▊    | 541/938 [01:20<00:51,  7.65it/s]"
          ]
        },
        {
          "output_type": "stream",
          "name": "stdout",
          "text": [
            "\tBatch 540, Epoch [1/2], Loss: 0.2092, Accuracy: 85.61%\n"
          ]
        },
        {
          "output_type": "stream",
          "name": "stderr",
          "text": [
            " 59%|█████▊    | 551/938 [01:21<00:52,  7.42it/s]"
          ]
        },
        {
          "output_type": "stream",
          "name": "stdout",
          "text": [
            "\tBatch 550, Epoch [1/2], Loss: 0.1516, Accuracy: 85.74%\n"
          ]
        },
        {
          "output_type": "stream",
          "name": "stderr",
          "text": [
            " 60%|█████▉    | 561/938 [01:23<00:49,  7.62it/s]"
          ]
        },
        {
          "output_type": "stream",
          "name": "stdout",
          "text": [
            "\tBatch 560, Epoch [1/2], Loss: 0.1308, Accuracy: 85.89%\n"
          ]
        },
        {
          "output_type": "stream",
          "name": "stderr",
          "text": [
            " 61%|██████    | 571/938 [01:24<01:02,  5.85it/s]"
          ]
        },
        {
          "output_type": "stream",
          "name": "stdout",
          "text": [
            "\tBatch 570, Epoch [1/2], Loss: 0.1104, Accuracy: 86.02%\n"
          ]
        },
        {
          "output_type": "stream",
          "name": "stderr",
          "text": [
            " 62%|██████▏   | 581/938 [01:26<01:10,  5.09it/s]"
          ]
        },
        {
          "output_type": "stream",
          "name": "stdout",
          "text": [
            "\tBatch 580, Epoch [1/2], Loss: 0.0734, Accuracy: 86.15%\n"
          ]
        },
        {
          "output_type": "stream",
          "name": "stderr",
          "text": [
            " 63%|██████▎   | 591/938 [01:28<00:51,  6.74it/s]"
          ]
        },
        {
          "output_type": "stream",
          "name": "stdout",
          "text": [
            "\tBatch 590, Epoch [1/2], Loss: 0.2416, Accuracy: 86.25%\n"
          ]
        },
        {
          "output_type": "stream",
          "name": "stderr",
          "text": [
            " 64%|██████▍   | 601/938 [01:29<00:46,  7.17it/s]"
          ]
        },
        {
          "output_type": "stream",
          "name": "stdout",
          "text": [
            "\tBatch 600, Epoch [1/2], Loss: 0.2133, Accuracy: 86.35%\n"
          ]
        },
        {
          "output_type": "stream",
          "name": "stderr",
          "text": [
            " 65%|██████▌   | 611/938 [01:31<00:42,  7.64it/s]"
          ]
        },
        {
          "output_type": "stream",
          "name": "stdout",
          "text": [
            "\tBatch 610, Epoch [1/2], Loss: 0.1505, Accuracy: 86.49%\n"
          ]
        },
        {
          "output_type": "stream",
          "name": "stderr",
          "text": [
            " 66%|██████▌   | 621/938 [01:33<00:50,  6.34it/s]"
          ]
        },
        {
          "output_type": "stream",
          "name": "stdout",
          "text": [
            "\tBatch 620, Epoch [1/2], Loss: 0.0605, Accuracy: 86.61%\n"
          ]
        },
        {
          "output_type": "stream",
          "name": "stderr",
          "text": [
            " 67%|██████▋   | 631/938 [01:34<00:41,  7.41it/s]"
          ]
        },
        {
          "output_type": "stream",
          "name": "stdout",
          "text": [
            "\tBatch 630, Epoch [1/2], Loss: 0.2431, Accuracy: 86.71%\n"
          ]
        },
        {
          "output_type": "stream",
          "name": "stderr",
          "text": [
            " 68%|██████▊   | 641/938 [01:35<00:39,  7.44it/s]"
          ]
        },
        {
          "output_type": "stream",
          "name": "stdout",
          "text": [
            "\tBatch 640, Epoch [1/2], Loss: 0.2133, Accuracy: 86.85%\n"
          ]
        },
        {
          "output_type": "stream",
          "name": "stderr",
          "text": [
            " 69%|██████▉   | 651/938 [01:37<00:39,  7.20it/s]"
          ]
        },
        {
          "output_type": "stream",
          "name": "stdout",
          "text": [
            "\tBatch 650, Epoch [1/2], Loss: 0.3986, Accuracy: 86.97%\n"
          ]
        },
        {
          "output_type": "stream",
          "name": "stderr",
          "text": [
            " 70%|███████   | 661/938 [01:38<00:54,  5.08it/s]"
          ]
        },
        {
          "output_type": "stream",
          "name": "stdout",
          "text": [
            "\tBatch 660, Epoch [1/2], Loss: 0.1949, Accuracy: 87.08%\n"
          ]
        },
        {
          "output_type": "stream",
          "name": "stderr",
          "text": [
            " 71%|███████▏  | 670/938 [01:40<00:54,  4.95it/s]"
          ]
        },
        {
          "output_type": "stream",
          "name": "stdout",
          "text": [
            "\tBatch 670, Epoch [1/2], Loss: 0.0845, Accuracy: 87.21%\n"
          ]
        },
        {
          "output_type": "stream",
          "name": "stderr",
          "text": [
            " 73%|███████▎  | 681/938 [01:42<00:36,  7.05it/s]"
          ]
        },
        {
          "output_type": "stream",
          "name": "stdout",
          "text": [
            "\tBatch 680, Epoch [1/2], Loss: 0.1756, Accuracy: 87.31%\n"
          ]
        },
        {
          "output_type": "stream",
          "name": "stderr",
          "text": [
            " 74%|███████▎  | 691/938 [01:44<00:35,  6.94it/s]"
          ]
        },
        {
          "output_type": "stream",
          "name": "stdout",
          "text": [
            "\tBatch 690, Epoch [1/2], Loss: 0.5109, Accuracy: 87.38%\n"
          ]
        },
        {
          "output_type": "stream",
          "name": "stderr",
          "text": [
            " 75%|███████▍  | 701/938 [01:45<00:33,  7.17it/s]"
          ]
        },
        {
          "output_type": "stream",
          "name": "stdout",
          "text": [
            "\tBatch 700, Epoch [1/2], Loss: 0.1492, Accuracy: 87.45%\n"
          ]
        },
        {
          "output_type": "stream",
          "name": "stderr",
          "text": [
            " 76%|███████▌  | 711/938 [01:46<00:31,  7.17it/s]"
          ]
        },
        {
          "output_type": "stream",
          "name": "stdout",
          "text": [
            "\tBatch 710, Epoch [1/2], Loss: 0.1799, Accuracy: 87.53%\n"
          ]
        },
        {
          "output_type": "stream",
          "name": "stderr",
          "text": [
            " 77%|███████▋  | 721/938 [01:48<00:29,  7.38it/s]"
          ]
        },
        {
          "output_type": "stream",
          "name": "stdout",
          "text": [
            "\tBatch 720, Epoch [1/2], Loss: 0.1916, Accuracy: 87.62%\n"
          ]
        },
        {
          "output_type": "stream",
          "name": "stderr",
          "text": [
            " 78%|███████▊  | 731/938 [01:50<00:46,  4.43it/s]"
          ]
        },
        {
          "output_type": "stream",
          "name": "stdout",
          "text": [
            "\tBatch 730, Epoch [1/2], Loss: 0.1039, Accuracy: 87.73%\n"
          ]
        },
        {
          "output_type": "stream",
          "name": "stderr",
          "text": [
            " 79%|███████▉  | 740/938 [01:51<00:37,  5.32it/s]"
          ]
        },
        {
          "output_type": "stream",
          "name": "stdout",
          "text": [
            "\tBatch 740, Epoch [1/2], Loss: 0.1361, Accuracy: 87.82%\n"
          ]
        },
        {
          "output_type": "stream",
          "name": "stderr",
          "text": [
            " 80%|███████▉  | 750/938 [01:53<00:37,  5.02it/s]"
          ]
        },
        {
          "output_type": "stream",
          "name": "stdout",
          "text": [
            "\tBatch 750, Epoch [1/2], Loss: 0.1147, Accuracy: 87.92%\n"
          ]
        },
        {
          "output_type": "stream",
          "name": "stderr",
          "text": [
            " 81%|████████  | 761/938 [01:55<00:26,  6.68it/s]"
          ]
        },
        {
          "output_type": "stream",
          "name": "stdout",
          "text": [
            "\tBatch 760, Epoch [1/2], Loss: 0.4256, Accuracy: 88.00%\n"
          ]
        },
        {
          "output_type": "stream",
          "name": "stderr",
          "text": [
            " 82%|████████▏ | 771/938 [01:57<00:23,  7.21it/s]"
          ]
        },
        {
          "output_type": "stream",
          "name": "stdout",
          "text": [
            "\tBatch 770, Epoch [1/2], Loss: 0.1961, Accuracy: 88.07%\n"
          ]
        },
        {
          "output_type": "stream",
          "name": "stderr",
          "text": [
            " 83%|████████▎ | 781/938 [01:58<00:21,  7.21it/s]"
          ]
        },
        {
          "output_type": "stream",
          "name": "stdout",
          "text": [
            "\tBatch 780, Epoch [1/2], Loss: 0.0902, Accuracy: 88.16%\n"
          ]
        },
        {
          "output_type": "stream",
          "name": "stderr",
          "text": [
            " 84%|████████▍ | 791/938 [02:00<00:19,  7.41it/s]"
          ]
        },
        {
          "output_type": "stream",
          "name": "stdout",
          "text": [
            "\tBatch 790, Epoch [1/2], Loss: 0.0711, Accuracy: 88.25%\n"
          ]
        },
        {
          "output_type": "stream",
          "name": "stderr",
          "text": [
            " 85%|████████▌ | 801/938 [02:01<00:19,  7.12it/s]"
          ]
        },
        {
          "output_type": "stream",
          "name": "stdout",
          "text": [
            "\tBatch 800, Epoch [1/2], Loss: 0.1768, Accuracy: 88.34%\n"
          ]
        },
        {
          "output_type": "stream",
          "name": "stderr",
          "text": [
            " 86%|████████▋ | 811/938 [02:02<00:17,  7.20it/s]"
          ]
        },
        {
          "output_type": "stream",
          "name": "stdout",
          "text": [
            "\tBatch 810, Epoch [1/2], Loss: 0.2168, Accuracy: 88.43%\n"
          ]
        },
        {
          "output_type": "stream",
          "name": "stderr",
          "text": [
            " 88%|████████▊ | 821/938 [02:04<00:15,  7.34it/s]"
          ]
        },
        {
          "output_type": "stream",
          "name": "stdout",
          "text": [
            "\tBatch 820, Epoch [1/2], Loss: 0.1093, Accuracy: 88.51%\n"
          ]
        },
        {
          "output_type": "stream",
          "name": "stderr",
          "text": [
            " 88%|████████▊ | 830/938 [02:05<00:18,  5.91it/s]"
          ]
        },
        {
          "output_type": "stream",
          "name": "stdout",
          "text": [
            "\tBatch 830, Epoch [1/2], Loss: 0.4507, Accuracy: 88.60%\n"
          ]
        },
        {
          "output_type": "stream",
          "name": "stderr",
          "text": [
            " 90%|████████▉ | 840/938 [02:07<00:20,  4.80it/s]"
          ]
        },
        {
          "output_type": "stream",
          "name": "stdout",
          "text": [
            "\tBatch 840, Epoch [1/2], Loss: 0.0968, Accuracy: 88.69%\n"
          ]
        },
        {
          "output_type": "stream",
          "name": "stderr",
          "text": [
            " 91%|█████████ | 851/938 [02:09<00:12,  6.88it/s]"
          ]
        },
        {
          "output_type": "stream",
          "name": "stdout",
          "text": [
            "\tBatch 850, Epoch [1/2], Loss: 0.1528, Accuracy: 88.76%\n"
          ]
        },
        {
          "output_type": "stream",
          "name": "stderr",
          "text": [
            " 92%|█████████▏| 861/938 [02:11<00:10,  7.24it/s]"
          ]
        },
        {
          "output_type": "stream",
          "name": "stdout",
          "text": [
            "\tBatch 860, Epoch [1/2], Loss: 0.0957, Accuracy: 88.84%\n"
          ]
        },
        {
          "output_type": "stream",
          "name": "stderr",
          "text": [
            " 93%|█████████▎| 871/938 [02:12<00:09,  7.36it/s]"
          ]
        },
        {
          "output_type": "stream",
          "name": "stdout",
          "text": [
            "\tBatch 870, Epoch [1/2], Loss: 0.13, Accuracy: 88.91%\n"
          ]
        },
        {
          "output_type": "stream",
          "name": "stderr",
          "text": [
            " 94%|█████████▍| 881/938 [02:13<00:07,  7.35it/s]"
          ]
        },
        {
          "output_type": "stream",
          "name": "stdout",
          "text": [
            "\tBatch 880, Epoch [1/2], Loss: 0.1017, Accuracy: 88.96%\n"
          ]
        },
        {
          "output_type": "stream",
          "name": "stderr",
          "text": [
            " 95%|█████████▍| 891/938 [02:15<00:06,  7.43it/s]"
          ]
        },
        {
          "output_type": "stream",
          "name": "stdout",
          "text": [
            "\tBatch 890, Epoch [1/2], Loss: 0.0515, Accuracy: 89.05%\n"
          ]
        },
        {
          "output_type": "stream",
          "name": "stderr",
          "text": [
            " 96%|█████████▌| 901/938 [02:16<00:05,  7.17it/s]"
          ]
        },
        {
          "output_type": "stream",
          "name": "stdout",
          "text": [
            "\tBatch 900, Epoch [1/2], Loss: 0.1098, Accuracy: 89.12%\n"
          ]
        },
        {
          "output_type": "stream",
          "name": "stderr",
          "text": [
            " 97%|█████████▋| 911/938 [02:17<00:03,  6.90it/s]"
          ]
        },
        {
          "output_type": "stream",
          "name": "stdout",
          "text": [
            "\tBatch 910, Epoch [1/2], Loss: 0.1055, Accuracy: 89.18%\n"
          ]
        },
        {
          "output_type": "stream",
          "name": "stderr",
          "text": [
            " 98%|█████████▊| 920/938 [02:19<00:03,  5.86it/s]"
          ]
        },
        {
          "output_type": "stream",
          "name": "stdout",
          "text": [
            "\tBatch 920, Epoch [1/2], Loss: 0.1512, Accuracy: 89.24%\n"
          ]
        },
        {
          "output_type": "stream",
          "name": "stderr",
          "text": [
            " 99%|█████████▉| 930/938 [02:21<00:01,  4.98it/s]"
          ]
        },
        {
          "output_type": "stream",
          "name": "stdout",
          "text": [
            "\tBatch 930, Epoch [1/2], Loss: 0.186, Accuracy: 89.31%\n"
          ]
        },
        {
          "output_type": "stream",
          "name": "stderr",
          "text": [
            "100%|██████████| 938/938 [02:23<00:00,  6.52it/s]\n"
          ]
        },
        {
          "output_type": "stream",
          "name": "stdout",
          "text": [
            "End of Epoch [1/2], Loss: 0.1609, Total Accuracy: 89.35%\n",
            "\n"
          ]
        },
        {
          "output_type": "stream",
          "name": "stderr",
          "text": [
            "  1%|          | 11/938 [00:02<02:07,  7.27it/s]"
          ]
        },
        {
          "output_type": "stream",
          "name": "stdout",
          "text": [
            "\tBatch 10, Epoch [2/2], Loss: 0.1166, Accuracy: 96.09%\n"
          ]
        },
        {
          "output_type": "stream",
          "name": "stderr",
          "text": [
            "  2%|▏         | 21/938 [00:03<02:05,  7.30it/s]"
          ]
        },
        {
          "output_type": "stream",
          "name": "stdout",
          "text": [
            "\tBatch 20, Epoch [2/2], Loss: 0.0749, Accuracy: 95.47%\n"
          ]
        },
        {
          "output_type": "stream",
          "name": "stderr",
          "text": [
            "  3%|▎         | 31/938 [00:04<01:58,  7.64it/s]"
          ]
        },
        {
          "output_type": "stream",
          "name": "stdout",
          "text": [
            "\tBatch 30, Epoch [2/2], Loss: 0.1994, Accuracy: 95.36%\n"
          ]
        },
        {
          "output_type": "stream",
          "name": "stderr",
          "text": [
            "  4%|▍         | 41/938 [00:06<01:59,  7.49it/s]"
          ]
        },
        {
          "output_type": "stream",
          "name": "stdout",
          "text": [
            "\tBatch 40, Epoch [2/2], Loss: 0.1208, Accuracy: 95.35%\n"
          ]
        },
        {
          "output_type": "stream",
          "name": "stderr",
          "text": [
            "  5%|▌         | 51/938 [00:07<02:11,  6.73it/s]"
          ]
        },
        {
          "output_type": "stream",
          "name": "stdout",
          "text": [
            "\tBatch 50, Epoch [2/2], Loss: 0.1736, Accuracy: 95.62%\n"
          ]
        },
        {
          "output_type": "stream",
          "name": "stderr",
          "text": [
            "  7%|▋         | 61/938 [00:09<02:09,  6.78it/s]"
          ]
        },
        {
          "output_type": "stream",
          "name": "stdout",
          "text": [
            "\tBatch 60, Epoch [2/2], Loss: 0.1459, Accuracy: 95.21%\n"
          ]
        },
        {
          "output_type": "stream",
          "name": "stderr",
          "text": [
            "  7%|▋         | 70/938 [00:10<02:49,  5.13it/s]"
          ]
        },
        {
          "output_type": "stream",
          "name": "stdout",
          "text": [
            "\tBatch 70, Epoch [2/2], Loss: 0.1591, Accuracy: 95.29%\n"
          ]
        },
        {
          "output_type": "stream",
          "name": "stderr",
          "text": [
            "  9%|▊         | 81/938 [00:13<02:26,  5.86it/s]"
          ]
        },
        {
          "output_type": "stream",
          "name": "stdout",
          "text": [
            "\tBatch 80, Epoch [2/2], Loss: 0.1025, Accuracy: 95.35%\n"
          ]
        },
        {
          "output_type": "stream",
          "name": "stderr",
          "text": [
            " 10%|▉         | 91/938 [00:14<01:53,  7.47it/s]"
          ]
        },
        {
          "output_type": "stream",
          "name": "stdout",
          "text": [
            "\tBatch 90, Epoch [2/2], Loss: 0.2138, Accuracy: 95.40%\n"
          ]
        },
        {
          "output_type": "stream",
          "name": "stderr",
          "text": [
            " 11%|█         | 101/938 [00:15<01:51,  7.48it/s]"
          ]
        },
        {
          "output_type": "stream",
          "name": "stdout",
          "text": [
            "\tBatch 100, Epoch [2/2], Loss: 0.228, Accuracy: 95.41%\n"
          ]
        },
        {
          "output_type": "stream",
          "name": "stderr",
          "text": [
            " 12%|█▏        | 111/938 [00:17<01:58,  7.00it/s]"
          ]
        },
        {
          "output_type": "stream",
          "name": "stdout",
          "text": [
            "\tBatch 110, Epoch [2/2], Loss: 0.1005, Accuracy: 95.36%\n"
          ]
        },
        {
          "output_type": "stream",
          "name": "stderr",
          "text": [
            " 13%|█▎        | 121/938 [00:18<01:48,  7.56it/s]"
          ]
        },
        {
          "output_type": "stream",
          "name": "stdout",
          "text": [
            "\tBatch 120, Epoch [2/2], Loss: 0.1577, Accuracy: 95.40%\n"
          ]
        },
        {
          "output_type": "stream",
          "name": "stderr",
          "text": [
            " 14%|█▍        | 131/938 [00:19<01:46,  7.59it/s]"
          ]
        },
        {
          "output_type": "stream",
          "name": "stdout",
          "text": [
            "\tBatch 130, Epoch [2/2], Loss: 0.0616, Accuracy: 95.36%\n"
          ]
        },
        {
          "output_type": "stream",
          "name": "stderr",
          "text": [
            " 15%|█▌        | 141/938 [00:21<01:44,  7.61it/s]"
          ]
        },
        {
          "output_type": "stream",
          "name": "stdout",
          "text": [
            "\tBatch 140, Epoch [2/2], Loss: 0.1967, Accuracy: 95.30%\n"
          ]
        },
        {
          "output_type": "stream",
          "name": "stderr",
          "text": [
            " 16%|█▌        | 151/938 [00:22<01:46,  7.42it/s]"
          ]
        },
        {
          "output_type": "stream",
          "name": "stdout",
          "text": [
            "\tBatch 150, Epoch [2/2], Loss: 0.2162, Accuracy: 95.34%\n"
          ]
        },
        {
          "output_type": "stream",
          "name": "stderr",
          "text": [
            " 17%|█▋        | 160/938 [00:24<02:31,  5.14it/s]"
          ]
        },
        {
          "output_type": "stream",
          "name": "stdout",
          "text": [
            "\tBatch 160, Epoch [2/2], Loss: 0.1624, Accuracy: 95.38%\n"
          ]
        },
        {
          "output_type": "stream",
          "name": "stderr",
          "text": [
            " 18%|█▊        | 171/938 [00:26<02:27,  5.21it/s]"
          ]
        },
        {
          "output_type": "stream",
          "name": "stdout",
          "text": [
            "\tBatch 170, Epoch [2/2], Loss: 0.1652, Accuracy: 95.43%\n"
          ]
        },
        {
          "output_type": "stream",
          "name": "stderr",
          "text": [
            " 19%|█▉        | 181/938 [00:27<01:42,  7.37it/s]"
          ]
        },
        {
          "output_type": "stream",
          "name": "stdout",
          "text": [
            "\tBatch 180, Epoch [2/2], Loss: 0.2666, Accuracy: 95.41%\n"
          ]
        },
        {
          "output_type": "stream",
          "name": "stderr",
          "text": [
            " 20%|██        | 191/938 [00:29<01:38,  7.62it/s]"
          ]
        },
        {
          "output_type": "stream",
          "name": "stdout",
          "text": [
            "\tBatch 190, Epoch [2/2], Loss: 0.1112, Accuracy: 95.48%\n"
          ]
        },
        {
          "output_type": "stream",
          "name": "stderr",
          "text": [
            " 21%|██▏       | 201/938 [00:30<01:37,  7.59it/s]"
          ]
        },
        {
          "output_type": "stream",
          "name": "stdout",
          "text": [
            "\tBatch 200, Epoch [2/2], Loss: 0.0982, Accuracy: 95.49%\n"
          ]
        },
        {
          "output_type": "stream",
          "name": "stderr",
          "text": [
            " 22%|██▏       | 211/938 [00:31<01:38,  7.40it/s]"
          ]
        },
        {
          "output_type": "stream",
          "name": "stdout",
          "text": [
            "\tBatch 210, Epoch [2/2], Loss: 0.1007, Accuracy: 95.59%\n"
          ]
        },
        {
          "output_type": "stream",
          "name": "stderr",
          "text": [
            " 24%|██▎       | 221/938 [00:33<01:35,  7.50it/s]"
          ]
        },
        {
          "output_type": "stream",
          "name": "stdout",
          "text": [
            "\tBatch 220, Epoch [2/2], Loss: 0.0628, Accuracy: 95.62%\n"
          ]
        },
        {
          "output_type": "stream",
          "name": "stderr",
          "text": [
            " 25%|██▍       | 231/938 [00:34<01:34,  7.44it/s]"
          ]
        },
        {
          "output_type": "stream",
          "name": "stdout",
          "text": [
            "\tBatch 230, Epoch [2/2], Loss: 0.1761, Accuracy: 95.67%\n"
          ]
        },
        {
          "output_type": "stream",
          "name": "stderr",
          "text": [
            " 26%|██▌       | 241/938 [00:35<01:37,  7.18it/s]"
          ]
        },
        {
          "output_type": "stream",
          "name": "stdout",
          "text": [
            "\tBatch 240, Epoch [2/2], Loss: 0.1435, Accuracy: 95.68%\n"
          ]
        },
        {
          "output_type": "stream",
          "name": "stderr",
          "text": [
            " 27%|██▋       | 250/938 [00:37<02:09,  5.32it/s]"
          ]
        },
        {
          "output_type": "stream",
          "name": "stdout",
          "text": [
            "\tBatch 250, Epoch [2/2], Loss: 0.0789, Accuracy: 95.73%\n"
          ]
        },
        {
          "output_type": "stream",
          "name": "stderr",
          "text": [
            " 28%|██▊       | 261/938 [00:39<02:23,  4.72it/s]"
          ]
        },
        {
          "output_type": "stream",
          "name": "stdout",
          "text": [
            "\tBatch 260, Epoch [2/2], Loss: 0.2096, Accuracy: 95.81%\n"
          ]
        },
        {
          "output_type": "stream",
          "name": "stderr",
          "text": [
            " 29%|██▉       | 271/938 [00:41<02:23,  4.65it/s]"
          ]
        },
        {
          "output_type": "stream",
          "name": "stdout",
          "text": [
            "\tBatch 270, Epoch [2/2], Loss: 0.0504, Accuracy: 95.82%\n"
          ]
        },
        {
          "output_type": "stream",
          "name": "stderr",
          "text": [
            " 30%|██▉       | 280/938 [00:43<02:29,  4.40it/s]"
          ]
        },
        {
          "output_type": "stream",
          "name": "stdout",
          "text": [
            "\tBatch 280, Epoch [2/2], Loss: 0.144, Accuracy: 95.79%\n"
          ]
        },
        {
          "output_type": "stream",
          "name": "stderr",
          "text": [
            " 31%|███       | 291/938 [00:45<01:43,  6.23it/s]"
          ]
        },
        {
          "output_type": "stream",
          "name": "stdout",
          "text": [
            "\tBatch 290, Epoch [2/2], Loss: 0.1324, Accuracy: 95.80%\n"
          ]
        },
        {
          "output_type": "stream",
          "name": "stderr",
          "text": [
            " 32%|███▏      | 301/938 [00:47<01:24,  7.57it/s]"
          ]
        },
        {
          "output_type": "stream",
          "name": "stdout",
          "text": [
            "\tBatch 300, Epoch [2/2], Loss: 0.1615, Accuracy: 95.78%\n"
          ]
        },
        {
          "output_type": "stream",
          "name": "stderr",
          "text": [
            " 33%|███▎      | 311/938 [00:48<01:25,  7.30it/s]"
          ]
        },
        {
          "output_type": "stream",
          "name": "stdout",
          "text": [
            "\tBatch 310, Epoch [2/2], Loss: 0.0963, Accuracy: 95.81%\n"
          ]
        },
        {
          "output_type": "stream",
          "name": "stderr",
          "text": [
            " 34%|███▍      | 321/938 [00:49<01:21,  7.61it/s]"
          ]
        },
        {
          "output_type": "stream",
          "name": "stdout",
          "text": [
            "\tBatch 320, Epoch [2/2], Loss: 0.0515, Accuracy: 95.82%\n"
          ]
        },
        {
          "output_type": "stream",
          "name": "stderr",
          "text": [
            " 35%|███▌      | 331/938 [00:51<01:18,  7.70it/s]"
          ]
        },
        {
          "output_type": "stream",
          "name": "stdout",
          "text": [
            "\tBatch 330, Epoch [2/2], Loss: 0.0771, Accuracy: 95.82%\n"
          ]
        },
        {
          "output_type": "stream",
          "name": "stderr",
          "text": [
            " 36%|███▋      | 341/938 [00:52<01:20,  7.44it/s]"
          ]
        },
        {
          "output_type": "stream",
          "name": "stdout",
          "text": [
            "\tBatch 340, Epoch [2/2], Loss: 0.0693, Accuracy: 95.83%\n"
          ]
        },
        {
          "output_type": "stream",
          "name": "stderr",
          "text": [
            " 37%|███▋      | 351/938 [00:53<01:21,  7.22it/s]"
          ]
        },
        {
          "output_type": "stream",
          "name": "stdout",
          "text": [
            "\tBatch 350, Epoch [2/2], Loss: 0.1329, Accuracy: 95.81%\n"
          ]
        },
        {
          "output_type": "stream",
          "name": "stderr",
          "text": [
            " 38%|███▊      | 361/938 [00:55<01:53,  5.10it/s]"
          ]
        },
        {
          "output_type": "stream",
          "name": "stdout",
          "text": [
            "\tBatch 360, Epoch [2/2], Loss: 0.1054, Accuracy: 95.85%\n"
          ]
        },
        {
          "output_type": "stream",
          "name": "stderr",
          "text": [
            " 40%|███▉      | 371/938 [00:57<01:37,  5.79it/s]"
          ]
        },
        {
          "output_type": "stream",
          "name": "stdout",
          "text": [
            "\tBatch 370, Epoch [2/2], Loss: 0.0945, Accuracy: 95.87%\n"
          ]
        },
        {
          "output_type": "stream",
          "name": "stderr",
          "text": [
            " 41%|████      | 381/938 [00:59<01:18,  7.10it/s]"
          ]
        },
        {
          "output_type": "stream",
          "name": "stdout",
          "text": [
            "\tBatch 380, Epoch [2/2], Loss: 0.0905, Accuracy: 95.88%\n"
          ]
        },
        {
          "output_type": "stream",
          "name": "stderr",
          "text": [
            " 42%|████▏     | 391/938 [01:00<01:16,  7.12it/s]"
          ]
        },
        {
          "output_type": "stream",
          "name": "stdout",
          "text": [
            "\tBatch 390, Epoch [2/2], Loss: 0.0952, Accuracy: 95.90%\n"
          ]
        },
        {
          "output_type": "stream",
          "name": "stderr",
          "text": [
            " 43%|████▎     | 401/938 [01:02<01:12,  7.41it/s]"
          ]
        },
        {
          "output_type": "stream",
          "name": "stdout",
          "text": [
            "\tBatch 400, Epoch [2/2], Loss: 0.1694, Accuracy: 95.91%\n"
          ]
        },
        {
          "output_type": "stream",
          "name": "stderr",
          "text": [
            " 44%|████▍     | 411/938 [01:03<01:12,  7.23it/s]"
          ]
        },
        {
          "output_type": "stream",
          "name": "stdout",
          "text": [
            "\tBatch 410, Epoch [2/2], Loss: 0.0693, Accuracy: 95.95%\n"
          ]
        },
        {
          "output_type": "stream",
          "name": "stderr",
          "text": [
            " 45%|████▍     | 421/938 [01:04<01:15,  6.87it/s]"
          ]
        },
        {
          "output_type": "stream",
          "name": "stdout",
          "text": [
            "\tBatch 420, Epoch [2/2], Loss: 0.0744, Accuracy: 95.98%\n"
          ]
        },
        {
          "output_type": "stream",
          "name": "stderr",
          "text": [
            " 46%|████▌     | 431/938 [01:06<01:07,  7.48it/s]"
          ]
        },
        {
          "output_type": "stream",
          "name": "stdout",
          "text": [
            "\tBatch 430, Epoch [2/2], Loss: 0.1096, Accuracy: 95.97%\n"
          ]
        },
        {
          "output_type": "stream",
          "name": "stderr",
          "text": [
            " 47%|████▋     | 440/938 [01:07<01:12,  6.82it/s]"
          ]
        },
        {
          "output_type": "stream",
          "name": "stdout",
          "text": [
            "\tBatch 440, Epoch [2/2], Loss: 0.0641, Accuracy: 95.99%\n"
          ]
        },
        {
          "output_type": "stream",
          "name": "stderr",
          "text": [
            " 48%|████▊     | 451/938 [01:09<01:33,  5.22it/s]"
          ]
        },
        {
          "output_type": "stream",
          "name": "stdout",
          "text": [
            "\tBatch 450, Epoch [2/2], Loss: 0.1242, Accuracy: 96.00%\n"
          ]
        },
        {
          "output_type": "stream",
          "name": "stderr",
          "text": [
            " 49%|████▉     | 461/938 [01:11<01:22,  5.77it/s]"
          ]
        },
        {
          "output_type": "stream",
          "name": "stdout",
          "text": [
            "\tBatch 460, Epoch [2/2], Loss: 0.0257, Accuracy: 95.99%\n"
          ]
        },
        {
          "output_type": "stream",
          "name": "stderr",
          "text": [
            " 50%|█████     | 471/938 [01:13<01:04,  7.20it/s]"
          ]
        },
        {
          "output_type": "stream",
          "name": "stdout",
          "text": [
            "\tBatch 470, Epoch [2/2], Loss: 0.2059, Accuracy: 95.97%\n"
          ]
        },
        {
          "output_type": "stream",
          "name": "stderr",
          "text": [
            " 51%|█████▏    | 481/938 [01:14<01:02,  7.26it/s]"
          ]
        },
        {
          "output_type": "stream",
          "name": "stdout",
          "text": [
            "\tBatch 480, Epoch [2/2], Loss: 0.0973, Accuracy: 95.95%\n"
          ]
        },
        {
          "output_type": "stream",
          "name": "stderr",
          "text": [
            " 52%|█████▏    | 491/938 [01:15<01:00,  7.39it/s]"
          ]
        },
        {
          "output_type": "stream",
          "name": "stdout",
          "text": [
            "\tBatch 490, Epoch [2/2], Loss: 0.0389, Accuracy: 95.95%\n"
          ]
        },
        {
          "output_type": "stream",
          "name": "stderr",
          "text": [
            " 53%|█████▎    | 501/938 [01:17<00:57,  7.60it/s]"
          ]
        },
        {
          "output_type": "stream",
          "name": "stdout",
          "text": [
            "\tBatch 500, Epoch [2/2], Loss: 0.1734, Accuracy: 95.97%\n"
          ]
        },
        {
          "output_type": "stream",
          "name": "stderr",
          "text": [
            " 54%|█████▍    | 511/938 [01:18<00:56,  7.56it/s]"
          ]
        },
        {
          "output_type": "stream",
          "name": "stdout",
          "text": [
            "\tBatch 510, Epoch [2/2], Loss: 0.0721, Accuracy: 95.99%\n"
          ]
        },
        {
          "output_type": "stream",
          "name": "stderr",
          "text": [
            " 56%|█████▌    | 521/938 [01:19<00:56,  7.35it/s]"
          ]
        },
        {
          "output_type": "stream",
          "name": "stdout",
          "text": [
            "\tBatch 520, Epoch [2/2], Loss: 0.0776, Accuracy: 96.00%\n"
          ]
        },
        {
          "output_type": "stream",
          "name": "stderr",
          "text": [
            " 57%|█████▋    | 531/938 [01:21<00:53,  7.58it/s]"
          ]
        },
        {
          "output_type": "stream",
          "name": "stdout",
          "text": [
            "\tBatch 530, Epoch [2/2], Loss: 0.0714, Accuracy: 96.01%\n"
          ]
        },
        {
          "output_type": "stream",
          "name": "stderr",
          "text": [
            " 58%|█████▊    | 540/938 [01:22<01:18,  5.09it/s]"
          ]
        },
        {
          "output_type": "stream",
          "name": "stdout",
          "text": [
            "\tBatch 540, Epoch [2/2], Loss: 0.1648, Accuracy: 96.02%\n"
          ]
        },
        {
          "output_type": "stream",
          "name": "stderr",
          "text": [
            " 59%|█████▊    | 551/938 [01:24<01:16,  5.09it/s]"
          ]
        },
        {
          "output_type": "stream",
          "name": "stdout",
          "text": [
            "\tBatch 550, Epoch [2/2], Loss: 0.0536, Accuracy: 96.03%\n"
          ]
        },
        {
          "output_type": "stream",
          "name": "stderr",
          "text": [
            " 60%|█████▉    | 561/938 [01:26<00:52,  7.19it/s]"
          ]
        },
        {
          "output_type": "stream",
          "name": "stdout",
          "text": [
            "\tBatch 560, Epoch [2/2], Loss: 0.1043, Accuracy: 96.05%\n"
          ]
        },
        {
          "output_type": "stream",
          "name": "stderr",
          "text": [
            " 61%|██████    | 571/938 [01:27<00:48,  7.59it/s]"
          ]
        },
        {
          "output_type": "stream",
          "name": "stdout",
          "text": [
            "\tBatch 570, Epoch [2/2], Loss: 0.0992, Accuracy: 96.07%\n"
          ]
        },
        {
          "output_type": "stream",
          "name": "stderr",
          "text": [
            " 62%|██████▏   | 581/938 [01:29<00:49,  7.15it/s]"
          ]
        },
        {
          "output_type": "stream",
          "name": "stdout",
          "text": [
            "\tBatch 580, Epoch [2/2], Loss: 0.1524, Accuracy: 96.09%\n"
          ]
        },
        {
          "output_type": "stream",
          "name": "stderr",
          "text": [
            " 63%|██████▎   | 591/938 [01:30<00:48,  7.21it/s]"
          ]
        },
        {
          "output_type": "stream",
          "name": "stdout",
          "text": [
            "\tBatch 590, Epoch [2/2], Loss: 0.0765, Accuracy: 96.09%\n"
          ]
        },
        {
          "output_type": "stream",
          "name": "stderr",
          "text": [
            " 64%|██████▍   | 601/938 [01:31<00:44,  7.55it/s]"
          ]
        },
        {
          "output_type": "stream",
          "name": "stdout",
          "text": [
            "\tBatch 600, Epoch [2/2], Loss: 0.0904, Accuracy: 96.12%\n"
          ]
        },
        {
          "output_type": "stream",
          "name": "stderr",
          "text": [
            " 65%|██████▌   | 611/938 [01:33<00:43,  7.52it/s]"
          ]
        },
        {
          "output_type": "stream",
          "name": "stdout",
          "text": [
            "\tBatch 610, Epoch [2/2], Loss: 0.0905, Accuracy: 96.13%\n"
          ]
        },
        {
          "output_type": "stream",
          "name": "stderr",
          "text": [
            " 66%|██████▌   | 621/938 [01:34<00:42,  7.43it/s]"
          ]
        },
        {
          "output_type": "stream",
          "name": "stdout",
          "text": [
            "\tBatch 620, Epoch [2/2], Loss: 0.1217, Accuracy: 96.15%\n"
          ]
        },
        {
          "output_type": "stream",
          "name": "stderr",
          "text": [
            " 67%|██████▋   | 631/938 [01:36<00:59,  5.16it/s]"
          ]
        },
        {
          "output_type": "stream",
          "name": "stdout",
          "text": [
            "\tBatch 630, Epoch [2/2], Loss: 0.0566, Accuracy: 96.16%\n"
          ]
        },
        {
          "output_type": "stream",
          "name": "stderr",
          "text": [
            " 68%|██████▊   | 640/938 [01:39<01:50,  2.70it/s]"
          ]
        },
        {
          "output_type": "stream",
          "name": "stdout",
          "text": [
            "\tBatch 640, Epoch [2/2], Loss: 0.1306, Accuracy: 96.18%\n"
          ]
        },
        {
          "output_type": "stream",
          "name": "stderr",
          "text": [
            " 69%|██████▉   | 650/938 [01:44<02:41,  1.78it/s]"
          ]
        },
        {
          "output_type": "stream",
          "name": "stdout",
          "text": [
            "\tBatch 650, Epoch [2/2], Loss: 0.0875, Accuracy: 96.17%\n"
          ]
        },
        {
          "output_type": "stream",
          "name": "stderr",
          "text": [
            " 70%|███████   | 660/938 [01:51<04:19,  1.07it/s]"
          ]
        },
        {
          "output_type": "stream",
          "name": "stdout",
          "text": [
            "\tBatch 660, Epoch [2/2], Loss: 0.0633, Accuracy: 96.18%\n"
          ]
        },
        {
          "output_type": "stream",
          "name": "stderr",
          "text": [
            " 71%|███████▏  | 670/938 [01:57<03:13,  1.38it/s]"
          ]
        },
        {
          "output_type": "stream",
          "name": "stdout",
          "text": [
            "\tBatch 670, Epoch [2/2], Loss: 0.1906, Accuracy: 96.18%\n"
          ]
        },
        {
          "output_type": "stream",
          "name": "stderr",
          "text": [
            " 72%|███████▏  | 680/938 [02:00<00:59,  4.31it/s]"
          ]
        },
        {
          "output_type": "stream",
          "name": "stdout",
          "text": [
            "\tBatch 680, Epoch [2/2], Loss: 0.0605, Accuracy: 96.18%\n"
          ]
        },
        {
          "output_type": "stream",
          "name": "stderr",
          "text": [
            " 74%|███████▎  | 690/938 [02:02<00:56,  4.42it/s]"
          ]
        },
        {
          "output_type": "stream",
          "name": "stdout",
          "text": [
            "\tBatch 690, Epoch [2/2], Loss: 0.066, Accuracy: 96.21%\n"
          ]
        },
        {
          "output_type": "stream",
          "name": "stderr",
          "text": [
            " 75%|███████▍  | 700/938 [02:06<01:20,  2.94it/s]"
          ]
        },
        {
          "output_type": "stream",
          "name": "stdout",
          "text": [
            "\tBatch 700, Epoch [2/2], Loss: 0.0753, Accuracy: 96.22%\n"
          ]
        },
        {
          "output_type": "stream",
          "name": "stderr",
          "text": [
            " 76%|███████▌  | 711/938 [02:09<00:56,  4.05it/s]"
          ]
        },
        {
          "output_type": "stream",
          "name": "stdout",
          "text": [
            "\tBatch 710, Epoch [2/2], Loss: 0.0538, Accuracy: 96.22%\n"
          ]
        },
        {
          "output_type": "stream",
          "name": "stderr",
          "text": [
            " 77%|███████▋  | 720/938 [02:11<00:47,  4.61it/s]"
          ]
        },
        {
          "output_type": "stream",
          "name": "stdout",
          "text": [
            "\tBatch 720, Epoch [2/2], Loss: 0.0861, Accuracy: 96.22%\n"
          ]
        },
        {
          "output_type": "stream",
          "name": "stderr",
          "text": [
            " 78%|███████▊  | 730/938 [02:13<00:48,  4.32it/s]"
          ]
        },
        {
          "output_type": "stream",
          "name": "stdout",
          "text": [
            "\tBatch 730, Epoch [2/2], Loss: 0.277, Accuracy: 96.22%\n"
          ]
        },
        {
          "output_type": "stream",
          "name": "stderr",
          "text": [
            " 79%|███████▉  | 741/938 [02:16<00:44,  4.46it/s]"
          ]
        },
        {
          "output_type": "stream",
          "name": "stdout",
          "text": [
            "\tBatch 740, Epoch [2/2], Loss: 0.0535, Accuracy: 96.20%\n"
          ]
        },
        {
          "output_type": "stream",
          "name": "stderr",
          "text": [
            " 80%|███████▉  | 750/938 [02:20<01:19,  2.36it/s]"
          ]
        },
        {
          "output_type": "stream",
          "name": "stdout",
          "text": [
            "\tBatch 750, Epoch [2/2], Loss: 0.235, Accuracy: 96.21%\n"
          ]
        },
        {
          "output_type": "stream",
          "name": "stderr",
          "text": [
            " 81%|████████  | 761/938 [02:22<00:28,  6.30it/s]"
          ]
        },
        {
          "output_type": "stream",
          "name": "stdout",
          "text": [
            "\tBatch 760, Epoch [2/2], Loss: 0.1937, Accuracy: 96.22%\n"
          ]
        },
        {
          "output_type": "stream",
          "name": "stderr",
          "text": [
            " 82%|████████▏ | 771/938 [02:24<00:22,  7.47it/s]"
          ]
        },
        {
          "output_type": "stream",
          "name": "stdout",
          "text": [
            "\tBatch 770, Epoch [2/2], Loss: 0.0637, Accuracy: 96.22%\n"
          ]
        },
        {
          "output_type": "stream",
          "name": "stderr",
          "text": [
            " 83%|████████▎ | 781/938 [02:25<00:21,  7.40it/s]"
          ]
        },
        {
          "output_type": "stream",
          "name": "stdout",
          "text": [
            "\tBatch 780, Epoch [2/2], Loss: 0.1635, Accuracy: 96.22%\n"
          ]
        },
        {
          "output_type": "stream",
          "name": "stderr",
          "text": [
            " 84%|████████▍ | 791/938 [02:26<00:19,  7.46it/s]"
          ]
        },
        {
          "output_type": "stream",
          "name": "stdout",
          "text": [
            "\tBatch 790, Epoch [2/2], Loss: 0.0786, Accuracy: 96.24%\n"
          ]
        },
        {
          "output_type": "stream",
          "name": "stderr",
          "text": [
            " 85%|████████▌ | 801/938 [02:28<00:18,  7.47it/s]"
          ]
        },
        {
          "output_type": "stream",
          "name": "stdout",
          "text": [
            "\tBatch 800, Epoch [2/2], Loss: 0.1194, Accuracy: 96.25%\n"
          ]
        },
        {
          "output_type": "stream",
          "name": "stderr",
          "text": [
            " 86%|████████▋ | 811/938 [02:29<00:17,  7.24it/s]"
          ]
        },
        {
          "output_type": "stream",
          "name": "stdout",
          "text": [
            "\tBatch 810, Epoch [2/2], Loss: 0.0904, Accuracy: 96.25%\n"
          ]
        },
        {
          "output_type": "stream",
          "name": "stderr",
          "text": [
            " 88%|████████▊ | 821/938 [02:30<00:16,  7.08it/s]"
          ]
        },
        {
          "output_type": "stream",
          "name": "stdout",
          "text": [
            "\tBatch 820, Epoch [2/2], Loss: 0.0732, Accuracy: 96.26%\n"
          ]
        },
        {
          "output_type": "stream",
          "name": "stderr",
          "text": [
            " 88%|████████▊ | 830/938 [02:32<00:23,  4.68it/s]"
          ]
        },
        {
          "output_type": "stream",
          "name": "stdout",
          "text": [
            "\tBatch 830, Epoch [2/2], Loss: 0.05, Accuracy: 96.27%\n"
          ]
        },
        {
          "output_type": "stream",
          "name": "stderr",
          "text": [
            " 90%|████████▉ | 841/938 [02:35<00:19,  4.86it/s]"
          ]
        },
        {
          "output_type": "stream",
          "name": "stdout",
          "text": [
            "\tBatch 840, Epoch [2/2], Loss: 0.0837, Accuracy: 96.25%\n"
          ]
        },
        {
          "output_type": "stream",
          "name": "stderr",
          "text": [
            " 91%|█████████ | 850/938 [02:37<00:21,  4.08it/s]"
          ]
        },
        {
          "output_type": "stream",
          "name": "stdout",
          "text": [
            "\tBatch 850, Epoch [2/2], Loss: 0.1476, Accuracy: 96.25%\n"
          ]
        },
        {
          "output_type": "stream",
          "name": "stderr",
          "text": [
            " 92%|█████████▏| 860/938 [02:39<00:19,  4.01it/s]"
          ]
        },
        {
          "output_type": "stream",
          "name": "stdout",
          "text": [
            "\tBatch 860, Epoch [2/2], Loss: 0.0439, Accuracy: 96.26%\n"
          ]
        },
        {
          "output_type": "stream",
          "name": "stderr",
          "text": [
            " 93%|█████████▎| 871/938 [02:41<00:09,  6.92it/s]"
          ]
        },
        {
          "output_type": "stream",
          "name": "stdout",
          "text": [
            "\tBatch 870, Epoch [2/2], Loss: 0.1078, Accuracy: 96.25%\n"
          ]
        },
        {
          "output_type": "stream",
          "name": "stderr",
          "text": [
            " 94%|█████████▍| 881/938 [02:42<00:07,  7.50it/s]"
          ]
        },
        {
          "output_type": "stream",
          "name": "stdout",
          "text": [
            "\tBatch 880, Epoch [2/2], Loss: 0.0763, Accuracy: 96.26%\n"
          ]
        },
        {
          "output_type": "stream",
          "name": "stderr",
          "text": [
            " 95%|█████████▍| 891/938 [02:44<00:06,  7.43it/s]"
          ]
        },
        {
          "output_type": "stream",
          "name": "stdout",
          "text": [
            "\tBatch 890, Epoch [2/2], Loss: 0.0493, Accuracy: 96.27%\n"
          ]
        },
        {
          "output_type": "stream",
          "name": "stderr",
          "text": [
            " 96%|█████████▌| 901/938 [02:46<00:07,  5.19it/s]"
          ]
        },
        {
          "output_type": "stream",
          "name": "stdout",
          "text": [
            "\tBatch 900, Epoch [2/2], Loss: 0.0905, Accuracy: 96.26%\n"
          ]
        },
        {
          "output_type": "stream",
          "name": "stderr",
          "text": [
            " 97%|█████████▋| 910/938 [02:47<00:05,  4.86it/s]"
          ]
        },
        {
          "output_type": "stream",
          "name": "stdout",
          "text": [
            "\tBatch 910, Epoch [2/2], Loss: 0.3191, Accuracy: 96.26%\n"
          ]
        },
        {
          "output_type": "stream",
          "name": "stderr",
          "text": [
            " 98%|█████████▊| 921/938 [02:49<00:02,  6.89it/s]"
          ]
        },
        {
          "output_type": "stream",
          "name": "stdout",
          "text": [
            "\tBatch 920, Epoch [2/2], Loss: 0.0196, Accuracy: 96.27%\n"
          ]
        },
        {
          "output_type": "stream",
          "name": "stderr",
          "text": [
            " 99%|█████████▉| 931/938 [02:50<00:00,  7.43it/s]"
          ]
        },
        {
          "output_type": "stream",
          "name": "stdout",
          "text": [
            "\tBatch 930, Epoch [2/2], Loss: 0.0748, Accuracy: 96.27%\n"
          ]
        },
        {
          "output_type": "stream",
          "name": "stderr",
          "text": [
            "100%|██████████| 938/938 [02:51<00:00,  5.46it/s]"
          ]
        },
        {
          "output_type": "stream",
          "name": "stdout",
          "text": [
            "End of Epoch [2/2], Loss: 0.1097, Total Accuracy: 96.27%\n",
            "\n"
          ]
        },
        {
          "output_type": "stream",
          "name": "stderr",
          "text": [
            "\n"
          ]
        }
      ]
    },
    {
      "cell_type": "code",
      "source": [
        "# 첫 번째 배치에 대한 결과 시각화\n",
        "images, labels = next(iter(train_loader))\n",
        "noisy_images = torch.stack([add_salt_and_pepper_noise(img, 0.005, 0.5) for img in images])\n",
        "denoised_images = torch.stack([mean_field_inference_step(-best_params['unary_potential_strength'] * (img - 0.5).pow(2), best_params['pairwise_potential_strength'], 15) for img in noisy_images])\n",
        "outputs = model(denoised_images)\n",
        "_, predicted = torch.max(outputs, 1)\n",
        "\n",
        "plt.figure(figsize=(12, 6))\n",
        "for i in range(6):\n",
        "    plt.subplot(2, 3, i+1)\n",
        "    plt.imshow(denoised_images[i][0], cmap='gray')\n",
        "    plt.title(f'Predicted: {predicted[i].item()} / Actual: {labels[i].item()}')\n",
        "plt.show()"
      ],
      "metadata": {
        "colab": {
          "base_uri": "https://localhost:8080/",
          "height": 545
        },
        "id": "Z0YVfo7LMv-u",
        "outputId": "478b6448-529e-422c-fef2-46302d4beb20"
      },
      "execution_count": null,
      "outputs": [
        {
          "output_type": "display_data",
          "data": {
            "text/plain": [
              "<Figure size 1200x600 with 6 Axes>"
            ],
            "image/png": "[encoded data removed]"
          },
          "metadata": {}
        }
      ]
    },
    {
      "cell_type": "markdown",
      "source": [
        "# Variational Bayes"
      ],
      "metadata": {
        "id": "XpsC5j_pHTLk"
      }
    },
    {
      "cell_type": "code",
      "source": [
        "from sklearn.datasets import fetch_california_housing\n",
        "import numpy as np\n",
        "import matplotlib.pyplot as plt\n",
        "from sklearn.preprocessing import PolynomialFeatures\n",
        "from sklearn.linear_model import LinearRegression\n",
        "from sklearn.metrics import mean_squared_error\n",
        "from sklearn.model_selection import cross_val_score\n",
        "from bayes_opt import BayesianOptimization\n",
        "from sklearn.pipeline import make_pipeline\n",
        "\n",
        "housing = fetch_california_housing()\n",
        "\n",
        "X = housing.data[:, 0].reshape(-1, 1)\n",
        "y = housing.target.reshape(-1, 1)\n",
        "\n",
        "class VariationalRegression:\n",
        "    def __init__(self, alpha=1.0, beta=1.0, degree=3):\n",
        "        self.alpha = alpha  # Precision of the prior\n",
        "        self.beta = beta    # Precision of the noise\n",
        "        self.degree = degree  # Degree of the polynomial features\n",
        "\n",
        "    def fit(self, X, y):\n",
        "        poly_features = PolynomialFeatures(degree=self.degree, include_bias=False)\n",
        "        X_transformed = poly_features.fit_transform(X)\n",
        "\n",
        "        n, d = X_transformed.shape\n",
        "        self.m_n = np.zeros((d, 1))  # Posterior mean 초기화\n",
        "        self.S_n = np.linalg.inv(self.alpha * np.eye(d) + self.beta * X_transformed.T @ X_transformed)  # Posterior covariance\n",
        "        self.m_n = self.beta * self.S_n @ X_transformed.T @ y  # Posterior mean\n",
        "\n",
        "    def predict(self, X):\n",
        "        poly_features = PolynomialFeatures(degree=self.degree, include_bias=False)\n",
        "        X_transformed = poly_features.fit_transform(X)\n",
        "\n",
        "        return X_transformed @ self.m_n\n",
        "\n",
        "    def get_params(self, deep=True):\n",
        "        return {'alpha': self.alpha, 'beta': self.beta, 'degree': self.degree}\n",
        "\n",
        "    def set_params(self, **parameters):\n",
        "        for parameter, value in parameters.items():\n",
        "            setattr(self, parameter, value)\n",
        "        return self\n",
        "\n",
        "def bo_objective(alpha, beta, degree):\n",
        "    # Variational Regression model\n",
        "    model = VariationalRegression(alpha=alpha, beta=beta, degree=int(degree))\n",
        "\n",
        "    model.fit(X, y)\n",
        "\n",
        "    # Negative MSE를 계산 (Bayesian Optimization의 목적 함수는 maximize를 하는 것이기 때문)\n",
        "    score = np.mean(cross_val_score(model, X, y.ravel(), cv=3, scoring='neg_mean_squared_error'))\n",
        "\n",
        "    return score\n",
        "\n",
        "pbounds = {\n",
        "    'alpha': (1e-8, 100),\n",
        "    'beta': (1e-8, 100),\n",
        "    'degree': (1, 5)\n",
        "}\n",
        "\n",
        "# Bayesian Optimization\n",
        "optimizer = BayesianOptimization(f=bo_objective, pbounds=pbounds)\n",
        "optimizer.maximize(init_points=50, n_iter=50)\n",
        "\n",
        "best_params = optimizer.max['params']\n",
        "best_alpha = best_params['alpha']\n",
        "best_beta = best_params['beta']\n",
        "best_degree = int(best_params['degree'])\n",
        "\n",
        "best_model = VariationalRegression(alpha=best_alpha, beta=best_beta, degree=best_degree)\n",
        "best_model.fit(X, y)\n",
        "y_pred_best = best_model.predict(X).ravel()\n",
        "\n",
        "def grid_search_poly_reg(X, y):\n",
        "    param_grid = {\n",
        "        'degree': [i for i in range(1, 6)]\n",
        "    }\n",
        "\n",
        "    best_score = float('inf')\n",
        "    best_params = None\n",
        "\n",
        "    for degree in param_grid['degree']:\n",
        "        model = make_pipeline(PolynomialFeatures(degree=degree, include_bias=False),\n",
        "                                LinearRegression())\n",
        "\n",
        "        score = -np.mean(cross_val_score(model, X, y.ravel(), cv=5, scoring='neg_mean_squared_error'))\n",
        "\n",
        "        if score < best_score:\n",
        "            best_score = score\n",
        "            best_params = {'degree': degree}\n",
        "\n",
        "    return best_params, best_score\n",
        "\n",
        "# Grid search with cross-validation\n",
        "best_params_poly, best_score_poly = grid_search_poly_reg(X, y.ravel())\n",
        "best_degree_poly = best_params_poly['degree']\n",
        "\n",
        "# Polynomial Regression model\n",
        "best_poly_model = make_pipeline(PolynomialFeatures(degree=best_degree_poly, include_bias=False),\n",
        "                                LinearRegression())\n",
        "best_poly_model.fit(X, y)\n",
        "y_pred_best_poly = best_poly_model.predict(X)\n",
        "\n",
        "mse_best_poly = mean_squared_error(y, y_pred_best_poly)\n",
        "\n",
        "mse_best_vp = mean_squared_error(y, y_pred_best)\n",
        "\n",
        "plt.figure(figsize=(12, 6))\n",
        "\n",
        "# Actual vs. Best Variational Polynomial Regression\n",
        "plt.subplot(1, 2, 1)\n",
        "plt.scatter(X, y, color='blue', label='Actual Data')\n",
        "sorted_indices_vp = X.ravel().argsort()\n",
        "plt.plot(X[sorted_indices_vp], y_pred_best[sorted_indices_vp], color='red', label='Best Variational Regression')\n",
        "plt.title(f'Best Variational Regression\\nMSE: {mse_best_vp:.3f}')\n",
        "plt.xlabel('X')\n",
        "plt.ylabel('y')\n",
        "plt.legend()\n",
        "\n",
        "# Actual vs. Linear Regression\n",
        "plt.subplot(1, 2, 2)\n",
        "plt.scatter(X, y, color='blue', label='Actual Data')\n",
        "sorted_indices_lr = X.ravel().argsort()\n",
        "plt.plot(X[sorted_indices_lr], y_pred_best_poly[sorted_indices_lr], color='green', label='Best Polynomial Regression')\n",
        "plt.title(f'Polynomial Regression\\nMSE: {mse_best_poly:.3f}')\n",
        "plt.xlabel('X')\n",
        "plt.ylabel('y')\n",
        "plt.legend()\n",
        "\n",
        "plt.tight_layout()\n",
        "plt.show()\n",
        "\n",
        "print(best_alpha, best_beta, best_degree)\n",
        "print(best_degree_poly)"
      ],
      "metadata": {
        "colab": {
          "base_uri": "https://localhost:8080/",
          "height": 1000
        },
        "id": "R1Ek0nVYl_Ss",
        "outputId": "5c2d7a00-407a-48d7-8bc4-a8f1f5fe7380"
      },
      "execution_count": null,
      "outputs": [
        {
          "output_type": "stream",
          "name": "stdout",
          "text": [
            "|   iter    |  target   |   alpha   |   beta    |  degree   |\n",
            "-------------------------------------------------------------\n",
            "| \u001b[0m1        \u001b[0m | \u001b[0m-0.7464  \u001b[0m | \u001b[0m37.41    \u001b[0m | \u001b[0m64.82    \u001b[0m | \u001b[0m1.569    \u001b[0m |\n",
            "| \u001b[95m2        \u001b[0m | \u001b[95m-0.6977  \u001b[0m | \u001b[95m18.96    \u001b[0m | \u001b[95m98.69    \u001b[0m | \u001b[95m4.306    \u001b[0m |\n",
            "| \u001b[0m3        \u001b[0m | \u001b[0m-0.6977  \u001b[0m | \u001b[0m74.97    \u001b[0m | \u001b[0m62.4     \u001b[0m | \u001b[0m4.421    \u001b[0m |\n",
            "| \u001b[0m4        \u001b[0m | \u001b[0m-0.7464  \u001b[0m | \u001b[0m10.53    \u001b[0m | \u001b[0m55.23    \u001b[0m | \u001b[0m1.155    \u001b[0m |\n",
            "| \u001b[0m5        \u001b[0m | \u001b[0m-0.6977  \u001b[0m | \u001b[0m56.36    \u001b[0m | \u001b[0m90.47    \u001b[0m | \u001b[0m4.333    \u001b[0m |\n",
            "| \u001b[0m6        \u001b[0m | \u001b[0m-0.7464  \u001b[0m | \u001b[0m52.44    \u001b[0m | \u001b[0m39.18    \u001b[0m | \u001b[0m1.626    \u001b[0m |\n",
            "| \u001b[0m7        \u001b[0m | \u001b[0m-0.7049  \u001b[0m | \u001b[0m77.33    \u001b[0m | \u001b[0m87.16    \u001b[0m | \u001b[0m3.278    \u001b[0m |\n",
            "| \u001b[0m8        \u001b[0m | \u001b[0m-0.7464  \u001b[0m | \u001b[0m14.64    \u001b[0m | \u001b[0m17.35    \u001b[0m | \u001b[0m1.136    \u001b[0m |\n",
            "| \u001b[0m9        \u001b[0m | \u001b[0m-0.7464  \u001b[0m | \u001b[0m66.43    \u001b[0m | \u001b[0m85.46    \u001b[0m | \u001b[0m1.577    \u001b[0m |\n",
            "| \u001b[0m10       \u001b[0m | \u001b[0m-0.7464  \u001b[0m | \u001b[0m11.82    \u001b[0m | \u001b[0m92.78    \u001b[0m | \u001b[0m1.034    \u001b[0m |\n",
            "| \u001b[0m11       \u001b[0m | \u001b[0m-0.6977  \u001b[0m | \u001b[0m61.25    \u001b[0m | \u001b[0m48.29    \u001b[0m | \u001b[0m4.524    \u001b[0m |\n",
            "| \u001b[0m12       \u001b[0m | \u001b[0m-0.7049  \u001b[0m | \u001b[0m30.5     \u001b[0m | \u001b[0m53.94    \u001b[0m | \u001b[0m3.055    \u001b[0m |\n",
            "| \u001b[0m13       \u001b[0m | \u001b[0m-0.6977  \u001b[0m | \u001b[0m10.32    \u001b[0m | \u001b[0m36.78    \u001b[0m | \u001b[0m4.448    \u001b[0m |\n",
            "| \u001b[0m14       \u001b[0m | \u001b[0m-0.7464  \u001b[0m | \u001b[0m87.98    \u001b[0m | \u001b[0m40.88    \u001b[0m | \u001b[0m1.931    \u001b[0m |\n",
            "| \u001b[0m15       \u001b[0m | \u001b[0m-0.7051  \u001b[0m | \u001b[0m17.34    \u001b[0m | \u001b[0m79.88    \u001b[0m | \u001b[0m2.385    \u001b[0m |\n",
            "| \u001b[0m16       \u001b[0m | \u001b[0m-0.7464  \u001b[0m | \u001b[0m66.93    \u001b[0m | \u001b[0m8.705    \u001b[0m | \u001b[0m1.562    \u001b[0m |\n",
            "| \u001b[0m17       \u001b[0m | \u001b[0m-0.7049  \u001b[0m | \u001b[0m94.86    \u001b[0m | \u001b[0m96.92    \u001b[0m | \u001b[0m3.239    \u001b[0m |\n",
            "| \u001b[0m18       \u001b[0m | \u001b[0m-0.7464  \u001b[0m | \u001b[0m18.49    \u001b[0m | \u001b[0m46.89    \u001b[0m | \u001b[0m1.454    \u001b[0m |\n",
            "| \u001b[0m19       \u001b[0m | \u001b[0m-0.6977  \u001b[0m | \u001b[0m48.78    \u001b[0m | \u001b[0m67.02    \u001b[0m | \u001b[0m4.52     \u001b[0m |\n",
            "| \u001b[0m20       \u001b[0m | \u001b[0m-0.7049  \u001b[0m | \u001b[0m36.48    \u001b[0m | \u001b[0m0.8305   \u001b[0m | \u001b[0m3.287    \u001b[0m |\n",
            "| \u001b[0m21       \u001b[0m | \u001b[0m-0.7464  \u001b[0m | \u001b[0m81.02    \u001b[0m | \u001b[0m19.6     \u001b[0m | \u001b[0m1.436    \u001b[0m |\n",
            "| \u001b[0m22       \u001b[0m | \u001b[0m-0.6977  \u001b[0m | \u001b[0m66.26    \u001b[0m | \u001b[0m58.65    \u001b[0m | \u001b[0m4.63     \u001b[0m |\n",
            "| \u001b[0m23       \u001b[0m | \u001b[0m-0.6977  \u001b[0m | \u001b[0m65.02    \u001b[0m | \u001b[0m29.92    \u001b[0m | \u001b[0m4.413    \u001b[0m |\n",
            "| \u001b[0m24       \u001b[0m | \u001b[0m-0.7051  \u001b[0m | \u001b[0m32.62    \u001b[0m | \u001b[0m51.93    \u001b[0m | \u001b[0m2.395    \u001b[0m |\n",
            "| \u001b[0m25       \u001b[0m | \u001b[0m-0.7051  \u001b[0m | \u001b[0m22.27    \u001b[0m | \u001b[0m65.2     \u001b[0m | \u001b[0m2.679    \u001b[0m |\n",
            "| \u001b[0m26       \u001b[0m | \u001b[0m-0.6977  \u001b[0m | \u001b[0m16.97    \u001b[0m | \u001b[0m11.74    \u001b[0m | \u001b[0m4.956    \u001b[0m |\n",
            "| \u001b[0m27       \u001b[0m | \u001b[0m-0.7051  \u001b[0m | \u001b[0m61.09    \u001b[0m | \u001b[0m14.82    \u001b[0m | \u001b[0m2.625    \u001b[0m |\n",
            "| \u001b[0m28       \u001b[0m | \u001b[0m-0.7049  \u001b[0m | \u001b[0m32.99    \u001b[0m | \u001b[0m83.45    \u001b[0m | \u001b[0m3.038    \u001b[0m |\n",
            "| \u001b[0m29       \u001b[0m | \u001b[0m-0.7464  \u001b[0m | \u001b[0m16.8     \u001b[0m | \u001b[0m25.55    \u001b[0m | \u001b[0m1.195    \u001b[0m |\n",
            "| \u001b[0m30       \u001b[0m | \u001b[0m-0.7464  \u001b[0m | \u001b[0m93.24    \u001b[0m | \u001b[0m62.58    \u001b[0m | \u001b[0m1.173    \u001b[0m |\n",
            "| \u001b[0m31       \u001b[0m | \u001b[0m-0.7051  \u001b[0m | \u001b[0m5.135    \u001b[0m | \u001b[0m0.8261   \u001b[0m | \u001b[0m2.437    \u001b[0m |\n",
            "| \u001b[0m32       \u001b[0m | \u001b[0m-0.7049  \u001b[0m | \u001b[0m22.5     \u001b[0m | \u001b[0m91.86    \u001b[0m | \u001b[0m3.711    \u001b[0m |\n",
            "| \u001b[0m33       \u001b[0m | \u001b[0m-0.7049  \u001b[0m | \u001b[0m84.79    \u001b[0m | \u001b[0m43.26    \u001b[0m | \u001b[0m3.988    \u001b[0m |\n",
            "| \u001b[0m34       \u001b[0m | \u001b[0m-0.7464  \u001b[0m | \u001b[0m27.84    \u001b[0m | \u001b[0m34.74    \u001b[0m | \u001b[0m1.875    \u001b[0m |\n",
            "| \u001b[0m35       \u001b[0m | \u001b[0m-0.7464  \u001b[0m | \u001b[0m57.12    \u001b[0m | \u001b[0m47.46    \u001b[0m | \u001b[0m1.851    \u001b[0m |\n",
            "| \u001b[0m36       \u001b[0m | \u001b[0m-0.6977  \u001b[0m | \u001b[0m86.15    \u001b[0m | \u001b[0m71.0     \u001b[0m | \u001b[0m4.372    \u001b[0m |\n",
            "| \u001b[0m37       \u001b[0m | \u001b[0m-0.7057  \u001b[0m | \u001b[0m70.17    \u001b[0m | \u001b[0m0.1139   \u001b[0m | \u001b[0m3.109    \u001b[0m |\n",
            "| \u001b[0m38       \u001b[0m | \u001b[0m-0.7051  \u001b[0m | \u001b[0m47.36    \u001b[0m | \u001b[0m34.56    \u001b[0m | \u001b[0m2.242    \u001b[0m |\n",
            "| \u001b[0m39       \u001b[0m | \u001b[0m-0.7049  \u001b[0m | \u001b[0m61.86    \u001b[0m | \u001b[0m62.93    \u001b[0m | \u001b[0m3.4      \u001b[0m |\n",
            "| \u001b[0m40       \u001b[0m | \u001b[0m-0.7051  \u001b[0m | \u001b[0m97.37    \u001b[0m | \u001b[0m70.36    \u001b[0m | \u001b[0m2.154    \u001b[0m |\n",
            "| \u001b[0m41       \u001b[0m | \u001b[0m-0.7051  \u001b[0m | \u001b[0m55.72    \u001b[0m | \u001b[0m54.99    \u001b[0m | \u001b[0m2.654    \u001b[0m |\n",
            "| \u001b[0m42       \u001b[0m | \u001b[0m-0.7049  \u001b[0m | \u001b[0m55.56    \u001b[0m | \u001b[0m38.51    \u001b[0m | \u001b[0m3.34     \u001b[0m |\n",
            "| \u001b[0m43       \u001b[0m | \u001b[0m-0.7464  \u001b[0m | \u001b[0m8.805    \u001b[0m | \u001b[0m46.58    \u001b[0m | \u001b[0m1.873    \u001b[0m |\n",
            "| \u001b[0m44       \u001b[0m | \u001b[0m-0.7464  \u001b[0m | \u001b[0m86.9     \u001b[0m | \u001b[0m48.12    \u001b[0m | \u001b[0m1.106    \u001b[0m |\n",
            "| \u001b[0m45       \u001b[0m | \u001b[0m-0.6977  \u001b[0m | \u001b[0m84.55    \u001b[0m | \u001b[0m19.62    \u001b[0m | \u001b[0m4.703    \u001b[0m |\n",
            "| \u001b[0m46       \u001b[0m | \u001b[0m-0.7049  \u001b[0m | \u001b[0m94.65    \u001b[0m | \u001b[0m84.3     \u001b[0m | \u001b[0m3.306    \u001b[0m |\n",
            "| \u001b[0m47       \u001b[0m | \u001b[0m-0.7049  \u001b[0m | \u001b[0m69.55    \u001b[0m | \u001b[0m50.62    \u001b[0m | \u001b[0m3.556    \u001b[0m |\n",
            "| \u001b[0m48       \u001b[0m | \u001b[0m-0.7464  \u001b[0m | \u001b[0m61.25    \u001b[0m | \u001b[0m52.4     \u001b[0m | \u001b[0m1.208    \u001b[0m |\n",
            "| \u001b[0m49       \u001b[0m | \u001b[0m-0.7049  \u001b[0m | \u001b[0m69.45    \u001b[0m | \u001b[0m81.02    \u001b[0m | \u001b[0m3.809    \u001b[0m |\n",
            "| \u001b[0m50       \u001b[0m | \u001b[0m-0.7464  \u001b[0m | \u001b[0m19.54    \u001b[0m | \u001b[0m44.17    \u001b[0m | \u001b[0m1.579    \u001b[0m |\n",
            "| \u001b[0m51       \u001b[0m | \u001b[0m-0.6977  \u001b[0m | \u001b[0m64.5     \u001b[0m | \u001b[0m59.27    \u001b[0m | \u001b[0m4.845    \u001b[0m |\n",
            "| \u001b[0m52       \u001b[0m | \u001b[0m-0.7049  \u001b[0m | \u001b[0m65.07    \u001b[0m | \u001b[0m61.81    \u001b[0m | \u001b[0m3.357    \u001b[0m |\n",
            "| \u001b[0m53       \u001b[0m | \u001b[0m-0.7464  \u001b[0m | \u001b[0m64.69    \u001b[0m | \u001b[0m58.92    \u001b[0m | \u001b[0m1.779    \u001b[0m |\n",
            "| \u001b[95m54       \u001b[0m | \u001b[95m-0.6937  \u001b[0m | \u001b[95m86.55    \u001b[0m | \u001b[95m19.68    \u001b[0m | \u001b[95m5.0      \u001b[0m |\n",
            "| \u001b[0m55       \u001b[0m | \u001b[0m-0.7049  \u001b[0m | \u001b[0m85.65    \u001b[0m | \u001b[0m18.75    \u001b[0m | \u001b[0m3.073    \u001b[0m |\n",
            "| \u001b[95m56       \u001b[0m | \u001b[95m-0.6937  \u001b[0m | \u001b[95m67.11    \u001b[0m | \u001b[95m61.02    \u001b[0m | \u001b[95m5.0      \u001b[0m |\n",
            "| \u001b[0m57       \u001b[0m | \u001b[0m-0.6977  \u001b[0m | \u001b[0m71.14    \u001b[0m | \u001b[0m60.58    \u001b[0m | \u001b[0m4.873    \u001b[0m |\n",
            "| \u001b[0m58       \u001b[0m | \u001b[0m-0.6977  \u001b[0m | \u001b[0m71.32    \u001b[0m | \u001b[0m64.09    \u001b[0m | \u001b[0m4.751    \u001b[0m |\n",
            "| \u001b[0m59       \u001b[0m | \u001b[0m-0.7464  \u001b[0m | \u001b[0m72.99    \u001b[0m | \u001b[0m62.93    \u001b[0m | \u001b[0m1.869    \u001b[0m |\n",
            "| \u001b[95m60       \u001b[0m | \u001b[95m-0.6937  \u001b[0m | \u001b[95m68.95    \u001b[0m | \u001b[95m62.97    \u001b[0m | \u001b[95m5.0      \u001b[0m |\n",
            "| \u001b[95m61       \u001b[0m | \u001b[95m-0.6937  \u001b[0m | \u001b[95m66.0     \u001b[0m | \u001b[95m64.63    \u001b[0m | \u001b[95m5.0      \u001b[0m |\n",
            "| \u001b[0m62       \u001b[0m | \u001b[0m-0.6977  \u001b[0m | \u001b[0m68.0     \u001b[0m | \u001b[0m66.51    \u001b[0m | \u001b[0m4.017    \u001b[0m |\n",
            "| \u001b[0m63       \u001b[0m | \u001b[0m-0.6937  \u001b[0m | \u001b[0m75.91    \u001b[0m | \u001b[0m59.12    \u001b[0m | \u001b[0m5.0      \u001b[0m |\n",
            "| \u001b[0m64       \u001b[0m | \u001b[0m-0.6937  \u001b[0m | \u001b[0m64.64    \u001b[0m | \u001b[0m46.71    \u001b[0m | \u001b[0m5.0      \u001b[0m |\n",
            "| \u001b[0m65       \u001b[0m | \u001b[0m-0.6977  \u001b[0m | \u001b[0m79.78    \u001b[0m | \u001b[0m60.34    \u001b[0m | \u001b[0m4.596    \u001b[0m |\n",
            "| \u001b[0m66       \u001b[0m | \u001b[0m-0.6937  \u001b[0m | \u001b[0m62.25    \u001b[0m | \u001b[0m43.33    \u001b[0m | \u001b[0m5.0      \u001b[0m |\n",
            "| \u001b[0m67       \u001b[0m | \u001b[0m-0.6977  \u001b[0m | \u001b[0m60.6     \u001b[0m | \u001b[0m38.25    \u001b[0m | \u001b[0m4.593    \u001b[0m |\n",
            "| \u001b[0m68       \u001b[0m | \u001b[0m-0.6977  \u001b[0m | \u001b[0m59.38    \u001b[0m | \u001b[0m33.05    \u001b[0m | \u001b[0m4.204    \u001b[0m |\n",
            "| \u001b[0m69       \u001b[0m | \u001b[0m-0.7051  \u001b[0m | \u001b[0m64.35    \u001b[0m | \u001b[0m34.97    \u001b[0m | \u001b[0m2.626    \u001b[0m |\n",
            "| \u001b[0m70       \u001b[0m | \u001b[0m-0.7051  \u001b[0m | \u001b[0m66.48    \u001b[0m | \u001b[0m41.74    \u001b[0m | \u001b[0m2.635    \u001b[0m |\n",
            "| \u001b[0m71       \u001b[0m | \u001b[0m-0.6977  \u001b[0m | \u001b[0m79.99    \u001b[0m | \u001b[0m65.78    \u001b[0m | \u001b[0m4.681    \u001b[0m |\n",
            "| \u001b[0m72       \u001b[0m | \u001b[0m-0.6977  \u001b[0m | \u001b[0m52.05    \u001b[0m | \u001b[0m61.15    \u001b[0m | \u001b[0m4.774    \u001b[0m |\n",
            "| \u001b[0m73       \u001b[0m | \u001b[0m-0.6977  \u001b[0m | \u001b[0m55.15    \u001b[0m | \u001b[0m66.94    \u001b[0m | \u001b[0m4.497    \u001b[0m |\n",
            "| \u001b[0m74       \u001b[0m | \u001b[0m-0.6937  \u001b[0m | \u001b[0m79.48    \u001b[0m | \u001b[0m42.86    \u001b[0m | \u001b[0m5.0      \u001b[0m |\n",
            "| \u001b[0m75       \u001b[0m | \u001b[0m-0.6977  \u001b[0m | \u001b[0m80.14    \u001b[0m | \u001b[0m72.95    \u001b[0m | \u001b[0m4.657    \u001b[0m |\n",
            "| \u001b[0m76       \u001b[0m | \u001b[0m-0.6977  \u001b[0m | \u001b[0m71.82    \u001b[0m | \u001b[0m73.31    \u001b[0m | \u001b[0m4.948    \u001b[0m |\n",
            "| \u001b[0m77       \u001b[0m | \u001b[0m-0.7051  \u001b[0m | \u001b[0m75.97    \u001b[0m | \u001b[0m78.25    \u001b[0m | \u001b[0m2.96     \u001b[0m |\n",
            "| \u001b[0m78       \u001b[0m | \u001b[0m-0.6937  \u001b[0m | \u001b[0m18.3     \u001b[0m | \u001b[0m6.331    \u001b[0m | \u001b[0m5.0      \u001b[0m |\n",
            "| \u001b[0m79       \u001b[0m | \u001b[0m-0.6937  \u001b[0m | \u001b[0m22.66    \u001b[0m | \u001b[0m9.62     \u001b[0m | \u001b[0m5.0      \u001b[0m |\n",
            "| \u001b[0m80       \u001b[0m | \u001b[0m-0.7464  \u001b[0m | \u001b[0m23.73    \u001b[0m | \u001b[0m4.572    \u001b[0m | \u001b[0m1.965    \u001b[0m |\n",
            "| \u001b[0m81       \u001b[0m | \u001b[0m-0.6977  \u001b[0m | \u001b[0m13.33    \u001b[0m | \u001b[0m6.599    \u001b[0m | \u001b[0m4.292    \u001b[0m |\n",
            "| \u001b[0m82       \u001b[0m | \u001b[0m-0.6977  \u001b[0m | \u001b[0m85.38    \u001b[0m | \u001b[0m77.28    \u001b[0m | \u001b[0m4.634    \u001b[0m |\n",
            "| \u001b[95m83       \u001b[0m | \u001b[95m-0.6937  \u001b[0m | \u001b[95m65.05    \u001b[0m | \u001b[95m72.64    \u001b[0m | \u001b[95m5.0      \u001b[0m |\n",
            "| \u001b[0m84       \u001b[0m | \u001b[0m-0.7049  \u001b[0m | \u001b[0m59.34    \u001b[0m | \u001b[0m72.36    \u001b[0m | \u001b[0m3.556    \u001b[0m |\n",
            "| \u001b[0m85       \u001b[0m | \u001b[0m-0.7049  \u001b[0m | \u001b[0m91.67    \u001b[0m | \u001b[0m76.36    \u001b[0m | \u001b[0m3.501    \u001b[0m |\n",
            "| \u001b[0m86       \u001b[0m | \u001b[0m-0.7464  \u001b[0m | \u001b[0m67.76    \u001b[0m | \u001b[0m74.82    \u001b[0m | \u001b[0m1.0      \u001b[0m |\n",
            "| \u001b[0m87       \u001b[0m | \u001b[0m-0.6937  \u001b[0m | \u001b[0m76.06    \u001b[0m | \u001b[0m47.32    \u001b[0m | \u001b[0m5.0      \u001b[0m |\n",
            "| \u001b[0m88       \u001b[0m | \u001b[0m-0.6937  \u001b[0m | \u001b[0m73.65    \u001b[0m | \u001b[0m42.66    \u001b[0m | \u001b[0m5.0      \u001b[0m |\n",
            "| \u001b[0m89       \u001b[0m | \u001b[0m-0.7464  \u001b[0m | \u001b[0m76.34    \u001b[0m | \u001b[0m42.7     \u001b[0m | \u001b[0m1.473    \u001b[0m |\n",
            "| \u001b[0m90       \u001b[0m | \u001b[0m-0.6937  \u001b[0m | \u001b[0m70.77    \u001b[0m | \u001b[0m45.65    \u001b[0m | \u001b[0m5.0      \u001b[0m |\n",
            "| \u001b[0m91       \u001b[0m | \u001b[0m-0.6937  \u001b[0m | \u001b[0m75.79    \u001b[0m | \u001b[0m52.86    \u001b[0m | \u001b[0m5.0      \u001b[0m |\n",
            "| \u001b[0m92       \u001b[0m | \u001b[0m-0.7464  \u001b[0m | \u001b[0m83.72    \u001b[0m | \u001b[0m74.1     \u001b[0m | \u001b[0m1.0      \u001b[0m |\n",
            "| \u001b[0m93       \u001b[0m | \u001b[0m-0.6977  \u001b[0m | \u001b[0m63.12    \u001b[0m | \u001b[0m69.5     \u001b[0m | \u001b[0m4.85     \u001b[0m |\n",
            "| \u001b[0m94       \u001b[0m | \u001b[0m-0.6977  \u001b[0m | \u001b[0m76.0     \u001b[0m | \u001b[0m69.31    \u001b[0m | \u001b[0m4.408    \u001b[0m |\n",
            "| \u001b[0m95       \u001b[0m | \u001b[0m-0.7464  \u001b[0m | \u001b[0m50.66    \u001b[0m | \u001b[0m64.26    \u001b[0m | \u001b[0m1.13     \u001b[0m |\n",
            "| \u001b[0m96       \u001b[0m | \u001b[0m-0.7464  \u001b[0m | \u001b[0m17.3     \u001b[0m | \u001b[0m8.958    \u001b[0m | \u001b[0m1.722    \u001b[0m |\n",
            "| \u001b[0m97       \u001b[0m | \u001b[0m-0.7051  \u001b[0m | \u001b[0m74.05    \u001b[0m | \u001b[0m49.79    \u001b[0m | \u001b[0m2.969    \u001b[0m |\n",
            "| \u001b[0m98       \u001b[0m | \u001b[0m-0.6977  \u001b[0m | \u001b[0m72.42    \u001b[0m | \u001b[0m56.23    \u001b[0m | \u001b[0m4.797    \u001b[0m |\n",
            "| \u001b[0m99       \u001b[0m | \u001b[0m-0.6977  \u001b[0m | \u001b[0m75.7     \u001b[0m | \u001b[0m73.88    \u001b[0m | \u001b[0m4.414    \u001b[0m |\n",
            "| \u001b[0m100      \u001b[0m | \u001b[0m-0.6937  \u001b[0m | \u001b[0m15.69    \u001b[0m | \u001b[0m3.169    \u001b[0m | \u001b[0m5.0      \u001b[0m |\n",
            "=============================================================\n"
          ]
        },
        {
          "output_type": "display_data",
          "data": {
            "text/plain": [
              "<Figure size 1200x600 with 2 Axes>"
            ],
            "image/png": "[encoded data removed]"
          },
          "metadata": {}
        },
        {
          "output_type": "stream",
          "name": "stdout",
          "text": [
            "65.04887768703269 72.63777809585599 5\n",
            "3\n"
          ]
        }
      ]
    }
  ]
}